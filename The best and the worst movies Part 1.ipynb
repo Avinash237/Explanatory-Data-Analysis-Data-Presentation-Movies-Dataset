{
 "cells": [
  {
   "cell_type": "markdown",
   "metadata": {},
   "source": [
    "## The best and the worst movies Part 1"
   ]
  },
  {
   "cell_type": "code",
   "execution_count": 1,
   "metadata": {},
   "outputs": [
    {
     "name": "stderr",
     "output_type": "stream",
     "text": [
      "C:\\Users\\DELL\\Anaconda3\\lib\\site-packages\\pandas\\compat\\_optional.py:138: UserWarning: Pandas requires version '2.7.0' or newer of 'numexpr' (version '2.6.9' currently installed).\n",
      "  warnings.warn(msg, UserWarning)\n"
     ]
    }
   ],
   "source": [
    "import pandas as pd\n",
    "import matplotlib.pyplot as plt\n",
    "import numpy as np\n",
    "from IPython.display import HTML\n",
    "pd.options.display.max_columns = 30\n",
    "pd.options.display.float_format = '{:.2f}'.format\n"
   ]
  },
  {
   "cell_type": "code",
   "execution_count": 2,
   "metadata": {},
   "outputs": [],
   "source": [
    "df = pd.read_csv('movies_complete.csv',parse_dates=['release_date'])"
   ]
  },
  {
   "cell_type": "code",
   "execution_count": 3,
   "metadata": {},
   "outputs": [
    {
     "data": {
      "text/plain": [
       "Index(['id', 'title', 'tagline', 'release_date', 'genres',\n",
       "       'belongs_to_collection', 'original_language', 'budget_musd',\n",
       "       'revenue_musd', 'production_companies', 'production_countries',\n",
       "       'vote_count', 'vote_average', 'popularity', 'runtime', 'overview',\n",
       "       'spoken_languages', 'poster_path', 'cast', 'cast_size', 'crew_size',\n",
       "       'director'],\n",
       "      dtype='object')"
      ]
     },
     "execution_count": 3,
     "metadata": {},
     "output_type": "execute_result"
    }
   ],
   "source": [
    "df.columns"
   ]
  },
  {
   "cell_type": "code",
   "execution_count": 4,
   "metadata": {},
   "outputs": [
    {
     "data": {
      "text/html": [
       "<div>\n",
       "<style scoped>\n",
       "    .dataframe tbody tr th:only-of-type {\n",
       "        vertical-align: middle;\n",
       "    }\n",
       "\n",
       "    .dataframe tbody tr th {\n",
       "        vertical-align: top;\n",
       "    }\n",
       "\n",
       "    .dataframe thead th {\n",
       "        text-align: right;\n",
       "    }\n",
       "</style>\n",
       "<table border=\"1\" class=\"dataframe\">\n",
       "  <thead>\n",
       "    <tr style=\"text-align: right;\">\n",
       "      <th></th>\n",
       "      <th>poster_path</th>\n",
       "      <th>title</th>\n",
       "      <th>budget_musd</th>\n",
       "      <th>revenue_musd</th>\n",
       "      <th>vote_count</th>\n",
       "      <th>vote_average</th>\n",
       "      <th>popularity</th>\n",
       "    </tr>\n",
       "  </thead>\n",
       "  <tbody>\n",
       "    <tr>\n",
       "      <th>0</th>\n",
       "      <td>&lt;img src='http://image.tmdb.org/t/p/w185//uXDf...</td>\n",
       "      <td>Toy Story</td>\n",
       "      <td>30.00</td>\n",
       "      <td>373.55</td>\n",
       "      <td>5415.00</td>\n",
       "      <td>7.70</td>\n",
       "      <td>21.95</td>\n",
       "    </tr>\n",
       "    <tr>\n",
       "      <th>1</th>\n",
       "      <td>&lt;img src='http://image.tmdb.org/t/p/w185//vgpX...</td>\n",
       "      <td>Jumanji</td>\n",
       "      <td>65.00</td>\n",
       "      <td>262.80</td>\n",
       "      <td>2413.00</td>\n",
       "      <td>6.90</td>\n",
       "      <td>17.02</td>\n",
       "    </tr>\n",
       "    <tr>\n",
       "      <th>2</th>\n",
       "      <td>&lt;img src='http://image.tmdb.org/t/p/w185//1FSX...</td>\n",
       "      <td>Grumpier Old Men</td>\n",
       "      <td>NaN</td>\n",
       "      <td>NaN</td>\n",
       "      <td>92.00</td>\n",
       "      <td>6.50</td>\n",
       "      <td>11.71</td>\n",
       "    </tr>\n",
       "    <tr>\n",
       "      <th>3</th>\n",
       "      <td>&lt;img src='http://image.tmdb.org/t/p/w185//4wjG...</td>\n",
       "      <td>Waiting to Exhale</td>\n",
       "      <td>16.00</td>\n",
       "      <td>81.45</td>\n",
       "      <td>34.00</td>\n",
       "      <td>6.10</td>\n",
       "      <td>3.86</td>\n",
       "    </tr>\n",
       "    <tr>\n",
       "      <th>4</th>\n",
       "      <td>&lt;img src='http://image.tmdb.org/t/p/w185//lf9R...</td>\n",
       "      <td>Father of the Bride Part II</td>\n",
       "      <td>NaN</td>\n",
       "      <td>76.58</td>\n",
       "      <td>173.00</td>\n",
       "      <td>5.70</td>\n",
       "      <td>8.39</td>\n",
       "    </tr>\n",
       "    <tr>\n",
       "      <th>...</th>\n",
       "      <td>...</td>\n",
       "      <td>...</td>\n",
       "      <td>...</td>\n",
       "      <td>...</td>\n",
       "      <td>...</td>\n",
       "      <td>...</td>\n",
       "      <td>...</td>\n",
       "    </tr>\n",
       "    <tr>\n",
       "      <th>44686</th>\n",
       "      <td>&lt;img src='http://image.tmdb.org/t/p/w185//pfC8...</td>\n",
       "      <td>Subdue</td>\n",
       "      <td>NaN</td>\n",
       "      <td>NaN</td>\n",
       "      <td>1.00</td>\n",
       "      <td>4.00</td>\n",
       "      <td>0.07</td>\n",
       "    </tr>\n",
       "    <tr>\n",
       "      <th>44687</th>\n",
       "      <td>&lt;img src='http://image.tmdb.org/t/p/w185//xZkm...</td>\n",
       "      <td>Century of Birthing</td>\n",
       "      <td>NaN</td>\n",
       "      <td>NaN</td>\n",
       "      <td>3.00</td>\n",
       "      <td>9.00</td>\n",
       "      <td>0.18</td>\n",
       "    </tr>\n",
       "    <tr>\n",
       "      <th>44688</th>\n",
       "      <td>&lt;img src='http://image.tmdb.org/t/p/w185//eGga...</td>\n",
       "      <td>Betrayal</td>\n",
       "      <td>NaN</td>\n",
       "      <td>NaN</td>\n",
       "      <td>6.00</td>\n",
       "      <td>3.80</td>\n",
       "      <td>0.90</td>\n",
       "    </tr>\n",
       "    <tr>\n",
       "      <th>44689</th>\n",
       "      <td>&lt;img src='http://image.tmdb.org/t/p/w185//aorB...</td>\n",
       "      <td>Satan Triumphant</td>\n",
       "      <td>NaN</td>\n",
       "      <td>NaN</td>\n",
       "      <td>0.00</td>\n",
       "      <td>NaN</td>\n",
       "      <td>0.00</td>\n",
       "    </tr>\n",
       "    <tr>\n",
       "      <th>44690</th>\n",
       "      <td>&lt;img src='http://image.tmdb.org/t/p/w185//oxFE...</td>\n",
       "      <td>Queerama</td>\n",
       "      <td>NaN</td>\n",
       "      <td>NaN</td>\n",
       "      <td>0.00</td>\n",
       "      <td>NaN</td>\n",
       "      <td>0.16</td>\n",
       "    </tr>\n",
       "  </tbody>\n",
       "</table>\n",
       "<p>44691 rows × 7 columns</p>\n",
       "</div>"
      ],
      "text/plain": [
       "                                             poster_path  \\\n",
       "0      <img src='http://image.tmdb.org/t/p/w185//uXDf...   \n",
       "1      <img src='http://image.tmdb.org/t/p/w185//vgpX...   \n",
       "2      <img src='http://image.tmdb.org/t/p/w185//1FSX...   \n",
       "3      <img src='http://image.tmdb.org/t/p/w185//4wjG...   \n",
       "4      <img src='http://image.tmdb.org/t/p/w185//lf9R...   \n",
       "...                                                  ...   \n",
       "44686  <img src='http://image.tmdb.org/t/p/w185//pfC8...   \n",
       "44687  <img src='http://image.tmdb.org/t/p/w185//xZkm...   \n",
       "44688  <img src='http://image.tmdb.org/t/p/w185//eGga...   \n",
       "44689  <img src='http://image.tmdb.org/t/p/w185//aorB...   \n",
       "44690  <img src='http://image.tmdb.org/t/p/w185//oxFE...   \n",
       "\n",
       "                             title  budget_musd  revenue_musd  vote_count  \\\n",
       "0                        Toy Story        30.00        373.55     5415.00   \n",
       "1                          Jumanji        65.00        262.80     2413.00   \n",
       "2                 Grumpier Old Men          NaN           NaN       92.00   \n",
       "3                Waiting to Exhale        16.00         81.45       34.00   \n",
       "4      Father of the Bride Part II          NaN         76.58      173.00   \n",
       "...                            ...          ...           ...         ...   \n",
       "44686                       Subdue          NaN           NaN        1.00   \n",
       "44687          Century of Birthing          NaN           NaN        3.00   \n",
       "44688                     Betrayal          NaN           NaN        6.00   \n",
       "44689             Satan Triumphant          NaN           NaN        0.00   \n",
       "44690                     Queerama          NaN           NaN        0.00   \n",
       "\n",
       "       vote_average  popularity  \n",
       "0              7.70       21.95  \n",
       "1              6.90       17.02  \n",
       "2              6.50       11.71  \n",
       "3              6.10        3.86  \n",
       "4              5.70        8.39  \n",
       "...             ...         ...  \n",
       "44686          4.00        0.07  \n",
       "44687          9.00        0.18  \n",
       "44688          3.80        0.90  \n",
       "44689           NaN        0.00  \n",
       "44690           NaN        0.16  \n",
       "\n",
       "[44691 rows x 7 columns]"
      ]
     },
     "execution_count": 4,
     "metadata": {},
     "output_type": "execute_result"
    }
   ],
   "source": [
    "# created subset of dataframe\n",
    "df_best = df[['poster_path','title','budget_musd','revenue_musd','vote_count','vote_average','popularity']].copy()\n",
    "df_best"
   ]
  },
  {
   "cell_type": "code",
   "execution_count": 5,
   "metadata": {},
   "outputs": [],
   "source": [
    "df_best['profit_musd'] = df.revenue_musd.sub(df.budget_musd)\n",
    "df_best['return'] = df.revenue_musd.div(df.budget_musd)"
   ]
  },
  {
   "cell_type": "code",
   "execution_count": 6,
   "metadata": {},
   "outputs": [
    {
     "data": {
      "text/html": [
       "<div>\n",
       "<style scoped>\n",
       "    .dataframe tbody tr th:only-of-type {\n",
       "        vertical-align: middle;\n",
       "    }\n",
       "\n",
       "    .dataframe tbody tr th {\n",
       "        vertical-align: top;\n",
       "    }\n",
       "\n",
       "    .dataframe thead th {\n",
       "        text-align: right;\n",
       "    }\n",
       "</style>\n",
       "<table border=\"1\" class=\"dataframe\">\n",
       "  <thead>\n",
       "    <tr style=\"text-align: right;\">\n",
       "      <th></th>\n",
       "      <th>poster_path</th>\n",
       "      <th>title</th>\n",
       "      <th>budget_musd</th>\n",
       "      <th>revenue_musd</th>\n",
       "      <th>vote_count</th>\n",
       "      <th>vote_average</th>\n",
       "      <th>popularity</th>\n",
       "      <th>profit_musd</th>\n",
       "      <th>return</th>\n",
       "    </tr>\n",
       "  </thead>\n",
       "  <tbody>\n",
       "    <tr>\n",
       "      <th>0</th>\n",
       "      <td>&lt;img src='http://image.tmdb.org/t/p/w185//uXDf...</td>\n",
       "      <td>Toy Story</td>\n",
       "      <td>30.00</td>\n",
       "      <td>373.55</td>\n",
       "      <td>5415.00</td>\n",
       "      <td>7.70</td>\n",
       "      <td>21.95</td>\n",
       "      <td>343.55</td>\n",
       "      <td>12.45</td>\n",
       "    </tr>\n",
       "    <tr>\n",
       "      <th>1</th>\n",
       "      <td>&lt;img src='http://image.tmdb.org/t/p/w185//vgpX...</td>\n",
       "      <td>Jumanji</td>\n",
       "      <td>65.00</td>\n",
       "      <td>262.80</td>\n",
       "      <td>2413.00</td>\n",
       "      <td>6.90</td>\n",
       "      <td>17.02</td>\n",
       "      <td>197.80</td>\n",
       "      <td>4.04</td>\n",
       "    </tr>\n",
       "    <tr>\n",
       "      <th>2</th>\n",
       "      <td>&lt;img src='http://image.tmdb.org/t/p/w185//1FSX...</td>\n",
       "      <td>Grumpier Old Men</td>\n",
       "      <td>NaN</td>\n",
       "      <td>NaN</td>\n",
       "      <td>92.00</td>\n",
       "      <td>6.50</td>\n",
       "      <td>11.71</td>\n",
       "      <td>NaN</td>\n",
       "      <td>NaN</td>\n",
       "    </tr>\n",
       "    <tr>\n",
       "      <th>3</th>\n",
       "      <td>&lt;img src='http://image.tmdb.org/t/p/w185//4wjG...</td>\n",
       "      <td>Waiting to Exhale</td>\n",
       "      <td>16.00</td>\n",
       "      <td>81.45</td>\n",
       "      <td>34.00</td>\n",
       "      <td>6.10</td>\n",
       "      <td>3.86</td>\n",
       "      <td>65.45</td>\n",
       "      <td>5.09</td>\n",
       "    </tr>\n",
       "    <tr>\n",
       "      <th>4</th>\n",
       "      <td>&lt;img src='http://image.tmdb.org/t/p/w185//lf9R...</td>\n",
       "      <td>Father of the Bride Part II</td>\n",
       "      <td>NaN</td>\n",
       "      <td>76.58</td>\n",
       "      <td>173.00</td>\n",
       "      <td>5.70</td>\n",
       "      <td>8.39</td>\n",
       "      <td>NaN</td>\n",
       "      <td>NaN</td>\n",
       "    </tr>\n",
       "    <tr>\n",
       "      <th>...</th>\n",
       "      <td>...</td>\n",
       "      <td>...</td>\n",
       "      <td>...</td>\n",
       "      <td>...</td>\n",
       "      <td>...</td>\n",
       "      <td>...</td>\n",
       "      <td>...</td>\n",
       "      <td>...</td>\n",
       "      <td>...</td>\n",
       "    </tr>\n",
       "    <tr>\n",
       "      <th>44686</th>\n",
       "      <td>&lt;img src='http://image.tmdb.org/t/p/w185//pfC8...</td>\n",
       "      <td>Subdue</td>\n",
       "      <td>NaN</td>\n",
       "      <td>NaN</td>\n",
       "      <td>1.00</td>\n",
       "      <td>4.00</td>\n",
       "      <td>0.07</td>\n",
       "      <td>NaN</td>\n",
       "      <td>NaN</td>\n",
       "    </tr>\n",
       "    <tr>\n",
       "      <th>44687</th>\n",
       "      <td>&lt;img src='http://image.tmdb.org/t/p/w185//xZkm...</td>\n",
       "      <td>Century of Birthing</td>\n",
       "      <td>NaN</td>\n",
       "      <td>NaN</td>\n",
       "      <td>3.00</td>\n",
       "      <td>9.00</td>\n",
       "      <td>0.18</td>\n",
       "      <td>NaN</td>\n",
       "      <td>NaN</td>\n",
       "    </tr>\n",
       "    <tr>\n",
       "      <th>44688</th>\n",
       "      <td>&lt;img src='http://image.tmdb.org/t/p/w185//eGga...</td>\n",
       "      <td>Betrayal</td>\n",
       "      <td>NaN</td>\n",
       "      <td>NaN</td>\n",
       "      <td>6.00</td>\n",
       "      <td>3.80</td>\n",
       "      <td>0.90</td>\n",
       "      <td>NaN</td>\n",
       "      <td>NaN</td>\n",
       "    </tr>\n",
       "    <tr>\n",
       "      <th>44689</th>\n",
       "      <td>&lt;img src='http://image.tmdb.org/t/p/w185//aorB...</td>\n",
       "      <td>Satan Triumphant</td>\n",
       "      <td>NaN</td>\n",
       "      <td>NaN</td>\n",
       "      <td>0.00</td>\n",
       "      <td>NaN</td>\n",
       "      <td>0.00</td>\n",
       "      <td>NaN</td>\n",
       "      <td>NaN</td>\n",
       "    </tr>\n",
       "    <tr>\n",
       "      <th>44690</th>\n",
       "      <td>&lt;img src='http://image.tmdb.org/t/p/w185//oxFE...</td>\n",
       "      <td>Queerama</td>\n",
       "      <td>NaN</td>\n",
       "      <td>NaN</td>\n",
       "      <td>0.00</td>\n",
       "      <td>NaN</td>\n",
       "      <td>0.16</td>\n",
       "      <td>NaN</td>\n",
       "      <td>NaN</td>\n",
       "    </tr>\n",
       "  </tbody>\n",
       "</table>\n",
       "<p>44691 rows × 9 columns</p>\n",
       "</div>"
      ],
      "text/plain": [
       "                                             poster_path  \\\n",
       "0      <img src='http://image.tmdb.org/t/p/w185//uXDf...   \n",
       "1      <img src='http://image.tmdb.org/t/p/w185//vgpX...   \n",
       "2      <img src='http://image.tmdb.org/t/p/w185//1FSX...   \n",
       "3      <img src='http://image.tmdb.org/t/p/w185//4wjG...   \n",
       "4      <img src='http://image.tmdb.org/t/p/w185//lf9R...   \n",
       "...                                                  ...   \n",
       "44686  <img src='http://image.tmdb.org/t/p/w185//pfC8...   \n",
       "44687  <img src='http://image.tmdb.org/t/p/w185//xZkm...   \n",
       "44688  <img src='http://image.tmdb.org/t/p/w185//eGga...   \n",
       "44689  <img src='http://image.tmdb.org/t/p/w185//aorB...   \n",
       "44690  <img src='http://image.tmdb.org/t/p/w185//oxFE...   \n",
       "\n",
       "                             title  budget_musd  revenue_musd  vote_count  \\\n",
       "0                        Toy Story        30.00        373.55     5415.00   \n",
       "1                          Jumanji        65.00        262.80     2413.00   \n",
       "2                 Grumpier Old Men          NaN           NaN       92.00   \n",
       "3                Waiting to Exhale        16.00         81.45       34.00   \n",
       "4      Father of the Bride Part II          NaN         76.58      173.00   \n",
       "...                            ...          ...           ...         ...   \n",
       "44686                       Subdue          NaN           NaN        1.00   \n",
       "44687          Century of Birthing          NaN           NaN        3.00   \n",
       "44688                     Betrayal          NaN           NaN        6.00   \n",
       "44689             Satan Triumphant          NaN           NaN        0.00   \n",
       "44690                     Queerama          NaN           NaN        0.00   \n",
       "\n",
       "       vote_average  popularity  profit_musd  return  \n",
       "0              7.70       21.95       343.55   12.45  \n",
       "1              6.90       17.02       197.80    4.04  \n",
       "2              6.50       11.71          NaN     NaN  \n",
       "3              6.10        3.86        65.45    5.09  \n",
       "4              5.70        8.39          NaN     NaN  \n",
       "...             ...         ...          ...     ...  \n",
       "44686          4.00        0.07          NaN     NaN  \n",
       "44687          9.00        0.18          NaN     NaN  \n",
       "44688          3.80        0.90          NaN     NaN  \n",
       "44689           NaN        0.00          NaN     NaN  \n",
       "44690           NaN        0.16          NaN     NaN  \n",
       "\n",
       "[44691 rows x 9 columns]"
      ]
     },
     "execution_count": 6,
     "metadata": {},
     "output_type": "execute_result"
    }
   ],
   "source": [
    "df_best"
   ]
  },
  {
   "cell_type": "code",
   "execution_count": 7,
   "metadata": {},
   "outputs": [],
   "source": [
    "df_best.columns = [\"\",\"Title\",\"Budget\",\"Revenue\",\"Votes\",\"Avarage Rating\",\"Popularity\",\"Profit\",\"ROI\"]"
   ]
  },
  {
   "cell_type": "code",
   "execution_count": 8,
   "metadata": {},
   "outputs": [],
   "source": [
    "df_best.set_index(\"Title\",inplace=True)\n"
   ]
  },
  {
   "cell_type": "code",
   "execution_count": 9,
   "metadata": {},
   "outputs": [
    {
     "data": {
      "text/html": [
       "<div>\n",
       "<style scoped>\n",
       "    .dataframe tbody tr th:only-of-type {\n",
       "        vertical-align: middle;\n",
       "    }\n",
       "\n",
       "    .dataframe tbody tr th {\n",
       "        vertical-align: top;\n",
       "    }\n",
       "\n",
       "    .dataframe thead th {\n",
       "        text-align: right;\n",
       "    }\n",
       "</style>\n",
       "<table border=\"1\" class=\"dataframe\">\n",
       "  <thead>\n",
       "    <tr style=\"text-align: right;\">\n",
       "      <th></th>\n",
       "      <th></th>\n",
       "      <th>Budget</th>\n",
       "      <th>Revenue</th>\n",
       "      <th>Votes</th>\n",
       "      <th>Avarage Rating</th>\n",
       "      <th>Popularity</th>\n",
       "      <th>Profit</th>\n",
       "      <th>ROI</th>\n",
       "    </tr>\n",
       "    <tr>\n",
       "      <th>Title</th>\n",
       "      <th></th>\n",
       "      <th></th>\n",
       "      <th></th>\n",
       "      <th></th>\n",
       "      <th></th>\n",
       "      <th></th>\n",
       "      <th></th>\n",
       "      <th></th>\n",
       "    </tr>\n",
       "  </thead>\n",
       "  <tbody>\n",
       "    <tr>\n",
       "      <th>Toy Story</th>\n",
       "      <td>&lt;img src='http://image.tmdb.org/t/p/w185//uXDf...</td>\n",
       "      <td>30.00</td>\n",
       "      <td>373.55</td>\n",
       "      <td>5415.00</td>\n",
       "      <td>7.70</td>\n",
       "      <td>21.95</td>\n",
       "      <td>343.55</td>\n",
       "      <td>12.45</td>\n",
       "    </tr>\n",
       "    <tr>\n",
       "      <th>Jumanji</th>\n",
       "      <td>&lt;img src='http://image.tmdb.org/t/p/w185//vgpX...</td>\n",
       "      <td>65.00</td>\n",
       "      <td>262.80</td>\n",
       "      <td>2413.00</td>\n",
       "      <td>6.90</td>\n",
       "      <td>17.02</td>\n",
       "      <td>197.80</td>\n",
       "      <td>4.04</td>\n",
       "    </tr>\n",
       "    <tr>\n",
       "      <th>Grumpier Old Men</th>\n",
       "      <td>&lt;img src='http://image.tmdb.org/t/p/w185//1FSX...</td>\n",
       "      <td>NaN</td>\n",
       "      <td>NaN</td>\n",
       "      <td>92.00</td>\n",
       "      <td>6.50</td>\n",
       "      <td>11.71</td>\n",
       "      <td>NaN</td>\n",
       "      <td>NaN</td>\n",
       "    </tr>\n",
       "    <tr>\n",
       "      <th>Waiting to Exhale</th>\n",
       "      <td>&lt;img src='http://image.tmdb.org/t/p/w185//4wjG...</td>\n",
       "      <td>16.00</td>\n",
       "      <td>81.45</td>\n",
       "      <td>34.00</td>\n",
       "      <td>6.10</td>\n",
       "      <td>3.86</td>\n",
       "      <td>65.45</td>\n",
       "      <td>5.09</td>\n",
       "    </tr>\n",
       "    <tr>\n",
       "      <th>Father of the Bride Part II</th>\n",
       "      <td>&lt;img src='http://image.tmdb.org/t/p/w185//lf9R...</td>\n",
       "      <td>NaN</td>\n",
       "      <td>76.58</td>\n",
       "      <td>173.00</td>\n",
       "      <td>5.70</td>\n",
       "      <td>8.39</td>\n",
       "      <td>NaN</td>\n",
       "      <td>NaN</td>\n",
       "    </tr>\n",
       "    <tr>\n",
       "      <th>...</th>\n",
       "      <td>...</td>\n",
       "      <td>...</td>\n",
       "      <td>...</td>\n",
       "      <td>...</td>\n",
       "      <td>...</td>\n",
       "      <td>...</td>\n",
       "      <td>...</td>\n",
       "      <td>...</td>\n",
       "    </tr>\n",
       "    <tr>\n",
       "      <th>Subdue</th>\n",
       "      <td>&lt;img src='http://image.tmdb.org/t/p/w185//pfC8...</td>\n",
       "      <td>NaN</td>\n",
       "      <td>NaN</td>\n",
       "      <td>1.00</td>\n",
       "      <td>4.00</td>\n",
       "      <td>0.07</td>\n",
       "      <td>NaN</td>\n",
       "      <td>NaN</td>\n",
       "    </tr>\n",
       "    <tr>\n",
       "      <th>Century of Birthing</th>\n",
       "      <td>&lt;img src='http://image.tmdb.org/t/p/w185//xZkm...</td>\n",
       "      <td>NaN</td>\n",
       "      <td>NaN</td>\n",
       "      <td>3.00</td>\n",
       "      <td>9.00</td>\n",
       "      <td>0.18</td>\n",
       "      <td>NaN</td>\n",
       "      <td>NaN</td>\n",
       "    </tr>\n",
       "    <tr>\n",
       "      <th>Betrayal</th>\n",
       "      <td>&lt;img src='http://image.tmdb.org/t/p/w185//eGga...</td>\n",
       "      <td>NaN</td>\n",
       "      <td>NaN</td>\n",
       "      <td>6.00</td>\n",
       "      <td>3.80</td>\n",
       "      <td>0.90</td>\n",
       "      <td>NaN</td>\n",
       "      <td>NaN</td>\n",
       "    </tr>\n",
       "    <tr>\n",
       "      <th>Satan Triumphant</th>\n",
       "      <td>&lt;img src='http://image.tmdb.org/t/p/w185//aorB...</td>\n",
       "      <td>NaN</td>\n",
       "      <td>NaN</td>\n",
       "      <td>0.00</td>\n",
       "      <td>NaN</td>\n",
       "      <td>0.00</td>\n",
       "      <td>NaN</td>\n",
       "      <td>NaN</td>\n",
       "    </tr>\n",
       "    <tr>\n",
       "      <th>Queerama</th>\n",
       "      <td>&lt;img src='http://image.tmdb.org/t/p/w185//oxFE...</td>\n",
       "      <td>NaN</td>\n",
       "      <td>NaN</td>\n",
       "      <td>0.00</td>\n",
       "      <td>NaN</td>\n",
       "      <td>0.16</td>\n",
       "      <td>NaN</td>\n",
       "      <td>NaN</td>\n",
       "    </tr>\n",
       "  </tbody>\n",
       "</table>\n",
       "<p>44691 rows × 8 columns</p>\n",
       "</div>"
      ],
      "text/plain": [
       "                                                                                \\\n",
       "Title                                                                            \n",
       "Toy Story                    <img src='http://image.tmdb.org/t/p/w185//uXDf...   \n",
       "Jumanji                      <img src='http://image.tmdb.org/t/p/w185//vgpX...   \n",
       "Grumpier Old Men             <img src='http://image.tmdb.org/t/p/w185//1FSX...   \n",
       "Waiting to Exhale            <img src='http://image.tmdb.org/t/p/w185//4wjG...   \n",
       "Father of the Bride Part II  <img src='http://image.tmdb.org/t/p/w185//lf9R...   \n",
       "...                                                                        ...   \n",
       "Subdue                       <img src='http://image.tmdb.org/t/p/w185//pfC8...   \n",
       "Century of Birthing          <img src='http://image.tmdb.org/t/p/w185//xZkm...   \n",
       "Betrayal                     <img src='http://image.tmdb.org/t/p/w185//eGga...   \n",
       "Satan Triumphant             <img src='http://image.tmdb.org/t/p/w185//aorB...   \n",
       "Queerama                     <img src='http://image.tmdb.org/t/p/w185//oxFE...   \n",
       "\n",
       "                             Budget  Revenue   Votes  Avarage Rating  \\\n",
       "Title                                                                  \n",
       "Toy Story                     30.00   373.55 5415.00            7.70   \n",
       "Jumanji                       65.00   262.80 2413.00            6.90   \n",
       "Grumpier Old Men                NaN      NaN   92.00            6.50   \n",
       "Waiting to Exhale             16.00    81.45   34.00            6.10   \n",
       "Father of the Bride Part II     NaN    76.58  173.00            5.70   \n",
       "...                             ...      ...     ...             ...   \n",
       "Subdue                          NaN      NaN    1.00            4.00   \n",
       "Century of Birthing             NaN      NaN    3.00            9.00   \n",
       "Betrayal                        NaN      NaN    6.00            3.80   \n",
       "Satan Triumphant                NaN      NaN    0.00             NaN   \n",
       "Queerama                        NaN      NaN    0.00             NaN   \n",
       "\n",
       "                             Popularity  Profit   ROI  \n",
       "Title                                                  \n",
       "Toy Story                         21.95  343.55 12.45  \n",
       "Jumanji                           17.02  197.80  4.04  \n",
       "Grumpier Old Men                  11.71     NaN   NaN  \n",
       "Waiting to Exhale                  3.86   65.45  5.09  \n",
       "Father of the Bride Part II        8.39     NaN   NaN  \n",
       "...                                 ...     ...   ...  \n",
       "Subdue                             0.07     NaN   NaN  \n",
       "Century of Birthing                0.18     NaN   NaN  \n",
       "Betrayal                           0.90     NaN   NaN  \n",
       "Satan Triumphant                   0.00     NaN   NaN  \n",
       "Queerama                           0.16     NaN   NaN  \n",
       "\n",
       "[44691 rows x 8 columns]"
      ]
     },
     "execution_count": 9,
     "metadata": {},
     "output_type": "execute_result"
    }
   ],
   "source": [
    "df_best"
   ]
  },
  {
   "cell_type": "code",
   "execution_count": 10,
   "metadata": {},
   "outputs": [
    {
     "data": {
      "text/plain": [
       "\"<img src='http://image.tmdb.org/t/p/w185//uXDfjJbdP4ijW5hWSBrPrlKpxab.jpg' style='height:100px;'>\""
      ]
     },
     "execution_count": 10,
     "metadata": {},
     "output_type": "execute_result"
    }
   ],
   "source": [
    "df_best.iloc[0,0]"
   ]
  },
  {
   "cell_type": "code",
   "execution_count": 11,
   "metadata": {},
   "outputs": [
    {
     "data": {
      "text/html": [
       "<div>\n",
       "<style scoped>\n",
       "    .dataframe tbody tr th:only-of-type {\n",
       "        vertical-align: middle;\n",
       "    }\n",
       "\n",
       "    .dataframe tbody tr th {\n",
       "        vertical-align: top;\n",
       "    }\n",
       "\n",
       "    .dataframe thead th {\n",
       "        text-align: right;\n",
       "    }\n",
       "</style>\n",
       "<table border=\"1\" class=\"dataframe\">\n",
       "  <thead>\n",
       "    <tr style=\"text-align: right;\">\n",
       "      <th></th>\n",
       "      <th></th>\n",
       "      <th>Budget</th>\n",
       "    </tr>\n",
       "    <tr>\n",
       "      <th>Title</th>\n",
       "      <th></th>\n",
       "      <th></th>\n",
       "    </tr>\n",
       "  </thead>\n",
       "  <tbody>\n",
       "    <tr>\n",
       "      <th>Toy Story</th>\n",
       "      <td>&lt;img src='http://image.tmdb.org/t/p/w185//uXDf...</td>\n",
       "      <td>30.00</td>\n",
       "    </tr>\n",
       "    <tr>\n",
       "      <th>Jumanji</th>\n",
       "      <td>&lt;img src='http://image.tmdb.org/t/p/w185//vgpX...</td>\n",
       "      <td>65.00</td>\n",
       "    </tr>\n",
       "    <tr>\n",
       "      <th>Grumpier Old Men</th>\n",
       "      <td>&lt;img src='http://image.tmdb.org/t/p/w185//1FSX...</td>\n",
       "      <td>NaN</td>\n",
       "    </tr>\n",
       "    <tr>\n",
       "      <th>Waiting to Exhale</th>\n",
       "      <td>&lt;img src='http://image.tmdb.org/t/p/w185//4wjG...</td>\n",
       "      <td>16.00</td>\n",
       "    </tr>\n",
       "    <tr>\n",
       "      <th>Father of the Bride Part II</th>\n",
       "      <td>&lt;img src='http://image.tmdb.org/t/p/w185//lf9R...</td>\n",
       "      <td>NaN</td>\n",
       "    </tr>\n",
       "  </tbody>\n",
       "</table>\n",
       "</div>"
      ],
      "text/plain": [
       "                                                                                \\\n",
       "Title                                                                            \n",
       "Toy Story                    <img src='http://image.tmdb.org/t/p/w185//uXDf...   \n",
       "Jumanji                      <img src='http://image.tmdb.org/t/p/w185//vgpX...   \n",
       "Grumpier Old Men             <img src='http://image.tmdb.org/t/p/w185//1FSX...   \n",
       "Waiting to Exhale            <img src='http://image.tmdb.org/t/p/w185//4wjG...   \n",
       "Father of the Bride Part II  <img src='http://image.tmdb.org/t/p/w185//lf9R...   \n",
       "\n",
       "                             Budget  \n",
       "Title                                \n",
       "Toy Story                     30.00  \n",
       "Jumanji                       65.00  \n",
       "Grumpier Old Men                NaN  \n",
       "Waiting to Exhale             16.00  \n",
       "Father of the Bride Part II     NaN  "
      ]
     },
     "execution_count": 11,
     "metadata": {},
     "output_type": "execute_result"
    }
   ],
   "source": [
    "subset = df_best.iloc[:5,:2]\n",
    "subset"
   ]
  },
  {
   "cell_type": "code",
   "execution_count": 12,
   "metadata": {},
   "outputs": [
    {
     "data": {
      "text/plain": [
       "'<table border=\"1\" class=\"dataframe\">\\n  <thead>\\n    <tr style=\"text-align: right;\">\\n      <th></th>\\n      <th></th>\\n      <th>Budget</th>\\n    </tr>\\n    <tr>\\n      <th>Title</th>\\n      <th></th>\\n      <th></th>\\n    </tr>\\n  </thead>\\n  <tbody>\\n    <tr>\\n      <th>Toy Story</th>\\n      <td><img src=\\'http://image.tmdb.org/t/p/w185//uXDfjJbdP4ijW5hWSBrPrlKpxab.jpg\\' style=\\'height:100px;\\'></td>\\n      <td>30.00</td>\\n    </tr>\\n    <tr>\\n      <th>Jumanji</th>\\n      <td><img src=\\'http://image.tmdb.org/t/p/w185//vgpXmVaVyUL7GGiDeiK1mKEKzcX.jpg\\' style=\\'height:100px;\\'></td>\\n      <td>65.00</td>\\n    </tr>\\n    <tr>\\n      <th>Grumpier Old Men</th>\\n      <td><img src=\\'http://image.tmdb.org/t/p/w185//1FSXpj5e8l4KH6nVFO5SPUeraOt.jpg\\' style=\\'height:100px;\\'></td>\\n      <td>NaN</td>\\n    </tr>\\n    <tr>\\n      <th>Waiting to Exhale</th>\\n      <td><img src=\\'http://image.tmdb.org/t/p/w185//4wjGMwPsdlvi025ZqR4rXnFDvBz.jpg\\' style=\\'height:100px;\\'></td>\\n      <td>16.00</td>\\n    </tr>\\n    <tr>\\n      <th>Father of the Bride Part II</th>\\n      <td><img src=\\'http://image.tmdb.org/t/p/w185//lf9RTErt8BSLQy98aSFblElvsCQ.jpg\\' style=\\'height:100px;\\'></td>\\n      <td>NaN</td>\\n    </tr>\\n  </tbody>\\n</table>'"
      ]
     },
     "execution_count": 12,
     "metadata": {},
     "output_type": "execute_result"
    }
   ],
   "source": [
    "subset.to_html(escape=False)"
   ]
  },
  {
   "cell_type": "code",
   "execution_count": 13,
   "metadata": {},
   "outputs": [
    {
     "data": {
      "text/html": [
       "<table border=\"1\" class=\"dataframe\">\n",
       "  <thead>\n",
       "    <tr style=\"text-align: right;\">\n",
       "      <th></th>\n",
       "      <th></th>\n",
       "      <th>Budget</th>\n",
       "    </tr>\n",
       "    <tr>\n",
       "      <th>Title</th>\n",
       "      <th></th>\n",
       "      <th></th>\n",
       "    </tr>\n",
       "  </thead>\n",
       "  <tbody>\n",
       "    <tr>\n",
       "      <th>Toy Story</th>\n",
       "      <td><img src='http://image.tmdb.org/t/p/w185//uXDfjJbdP4ijW5hWSBrPrlKpxab.jpg' style='height:100px;'></td>\n",
       "      <td>30.00</td>\n",
       "    </tr>\n",
       "    <tr>\n",
       "      <th>Jumanji</th>\n",
       "      <td><img src='http://image.tmdb.org/t/p/w185//vgpXmVaVyUL7GGiDeiK1mKEKzcX.jpg' style='height:100px;'></td>\n",
       "      <td>65.00</td>\n",
       "    </tr>\n",
       "    <tr>\n",
       "      <th>Grumpier Old Men</th>\n",
       "      <td><img src='http://image.tmdb.org/t/p/w185//1FSXpj5e8l4KH6nVFO5SPUeraOt.jpg' style='height:100px;'></td>\n",
       "      <td>NaN</td>\n",
       "    </tr>\n",
       "    <tr>\n",
       "      <th>Waiting to Exhale</th>\n",
       "      <td><img src='http://image.tmdb.org/t/p/w185//4wjGMwPsdlvi025ZqR4rXnFDvBz.jpg' style='height:100px;'></td>\n",
       "      <td>16.00</td>\n",
       "    </tr>\n",
       "    <tr>\n",
       "      <th>Father of the Bride Part II</th>\n",
       "      <td><img src='http://image.tmdb.org/t/p/w185//lf9RTErt8BSLQy98aSFblElvsCQ.jpg' style='height:100px;'></td>\n",
       "      <td>NaN</td>\n",
       "    </tr>\n",
       "  </tbody>\n",
       "</table>"
      ],
      "text/plain": [
       "<IPython.core.display.HTML object>"
      ]
     },
     "execution_count": 13,
     "metadata": {},
     "output_type": "execute_result"
    }
   ],
   "source": [
    "HTML(subset.to_html(escape=False))"
   ]
  },
  {
   "cell_type": "code",
   "execution_count": 14,
   "metadata": {},
   "outputs": [
    {
     "data": {
      "text/html": [
       "<div>\n",
       "<style scoped>\n",
       "    .dataframe tbody tr th:only-of-type {\n",
       "        vertical-align: middle;\n",
       "    }\n",
       "\n",
       "    .dataframe tbody tr th {\n",
       "        vertical-align: top;\n",
       "    }\n",
       "\n",
       "    .dataframe thead th {\n",
       "        text-align: right;\n",
       "    }\n",
       "</style>\n",
       "<table border=\"1\" class=\"dataframe\">\n",
       "  <thead>\n",
       "    <tr style=\"text-align: right;\">\n",
       "      <th></th>\n",
       "      <th></th>\n",
       "      <th>Budget</th>\n",
       "      <th>Revenue</th>\n",
       "      <th>Votes</th>\n",
       "      <th>Avarage Rating</th>\n",
       "      <th>Popularity</th>\n",
       "      <th>Profit</th>\n",
       "      <th>ROI</th>\n",
       "    </tr>\n",
       "    <tr>\n",
       "      <th>Title</th>\n",
       "      <th></th>\n",
       "      <th></th>\n",
       "      <th></th>\n",
       "      <th></th>\n",
       "      <th></th>\n",
       "      <th></th>\n",
       "      <th></th>\n",
       "      <th></th>\n",
       "    </tr>\n",
       "  </thead>\n",
       "  <tbody>\n",
       "    <tr>\n",
       "      <th>Portrait of a Young Man in Three Movements</th>\n",
       "      <td>NaN</td>\n",
       "      <td>NaN</td>\n",
       "      <td>NaN</td>\n",
       "      <td>1.00</td>\n",
       "      <td>10.00</td>\n",
       "      <td>0.04</td>\n",
       "      <td>NaN</td>\n",
       "      <td>NaN</td>\n",
       "    </tr>\n",
       "    <tr>\n",
       "      <th>Brave Revolutionary</th>\n",
       "      <td>&lt;img src='http://image.tmdb.org/t/p/w185//zAb2...</td>\n",
       "      <td>NaN</td>\n",
       "      <td>NaN</td>\n",
       "      <td>1.00</td>\n",
       "      <td>10.00</td>\n",
       "      <td>0.32</td>\n",
       "      <td>NaN</td>\n",
       "      <td>NaN</td>\n",
       "    </tr>\n",
       "    <tr>\n",
       "      <th>Other Voices Other Rooms</th>\n",
       "      <td>&lt;img src='http://image.tmdb.org/t/p/w185//4ifP...</td>\n",
       "      <td>NaN</td>\n",
       "      <td>NaN</td>\n",
       "      <td>1.00</td>\n",
       "      <td>10.00</td>\n",
       "      <td>0.04</td>\n",
       "      <td>NaN</td>\n",
       "      <td>NaN</td>\n",
       "    </tr>\n",
       "    <tr>\n",
       "      <th>The Lion of Thebes</th>\n",
       "      <td>&lt;img src='http://image.tmdb.org/t/p/w185//tdOc...</td>\n",
       "      <td>NaN</td>\n",
       "      <td>NaN</td>\n",
       "      <td>1.00</td>\n",
       "      <td>10.00</td>\n",
       "      <td>1.78</td>\n",
       "      <td>NaN</td>\n",
       "      <td>NaN</td>\n",
       "    </tr>\n",
       "    <tr>\n",
       "      <th>Katt Williams: Priceless: Afterlife</th>\n",
       "      <td>&lt;img src='http://image.tmdb.org/t/p/w185//wKrH...</td>\n",
       "      <td>NaN</td>\n",
       "      <td>NaN</td>\n",
       "      <td>2.00</td>\n",
       "      <td>10.00</td>\n",
       "      <td>0.48</td>\n",
       "      <td>NaN</td>\n",
       "      <td>NaN</td>\n",
       "    </tr>\n",
       "    <tr>\n",
       "      <th>...</th>\n",
       "      <td>...</td>\n",
       "      <td>...</td>\n",
       "      <td>...</td>\n",
       "      <td>...</td>\n",
       "      <td>...</td>\n",
       "      <td>...</td>\n",
       "      <td>...</td>\n",
       "      <td>...</td>\n",
       "    </tr>\n",
       "    <tr>\n",
       "      <th>Altar of Fire</th>\n",
       "      <td>&lt;img src='http://image.tmdb.org/t/p/w185//iJ78...</td>\n",
       "      <td>NaN</td>\n",
       "      <td>NaN</td>\n",
       "      <td>0.00</td>\n",
       "      <td>NaN</td>\n",
       "      <td>0.00</td>\n",
       "      <td>NaN</td>\n",
       "      <td>NaN</td>\n",
       "    </tr>\n",
       "    <tr>\n",
       "      <th>The Wonders of Aladdin</th>\n",
       "      <td>&lt;img src='http://image.tmdb.org/t/p/w185//AvfX...</td>\n",
       "      <td>NaN</td>\n",
       "      <td>NaN</td>\n",
       "      <td>0.00</td>\n",
       "      <td>NaN</td>\n",
       "      <td>0.09</td>\n",
       "      <td>NaN</td>\n",
       "      <td>NaN</td>\n",
       "    </tr>\n",
       "    <tr>\n",
       "      <th>Deep Hearts</th>\n",
       "      <td>&lt;img src='http://image.tmdb.org/t/p/w185//8jI4...</td>\n",
       "      <td>NaN</td>\n",
       "      <td>NaN</td>\n",
       "      <td>0.00</td>\n",
       "      <td>NaN</td>\n",
       "      <td>0.01</td>\n",
       "      <td>NaN</td>\n",
       "      <td>NaN</td>\n",
       "    </tr>\n",
       "    <tr>\n",
       "      <th>Satan Triumphant</th>\n",
       "      <td>&lt;img src='http://image.tmdb.org/t/p/w185//aorB...</td>\n",
       "      <td>NaN</td>\n",
       "      <td>NaN</td>\n",
       "      <td>0.00</td>\n",
       "      <td>NaN</td>\n",
       "      <td>0.00</td>\n",
       "      <td>NaN</td>\n",
       "      <td>NaN</td>\n",
       "    </tr>\n",
       "    <tr>\n",
       "      <th>Queerama</th>\n",
       "      <td>&lt;img src='http://image.tmdb.org/t/p/w185//oxFE...</td>\n",
       "      <td>NaN</td>\n",
       "      <td>NaN</td>\n",
       "      <td>0.00</td>\n",
       "      <td>NaN</td>\n",
       "      <td>0.16</td>\n",
       "      <td>NaN</td>\n",
       "      <td>NaN</td>\n",
       "    </tr>\n",
       "  </tbody>\n",
       "</table>\n",
       "<p>44691 rows × 8 columns</p>\n",
       "</div>"
      ],
      "text/plain": [
       "                                                                                               \\\n",
       "Title                                                                                           \n",
       "Portrait of a Young Man in Three Movements                                                NaN   \n",
       "Brave Revolutionary                         <img src='http://image.tmdb.org/t/p/w185//zAb2...   \n",
       "Other Voices Other Rooms                    <img src='http://image.tmdb.org/t/p/w185//4ifP...   \n",
       "The Lion of Thebes                          <img src='http://image.tmdb.org/t/p/w185//tdOc...   \n",
       "Katt Williams: Priceless: Afterlife         <img src='http://image.tmdb.org/t/p/w185//wKrH...   \n",
       "...                                                                                       ...   \n",
       "Altar of Fire                               <img src='http://image.tmdb.org/t/p/w185//iJ78...   \n",
       "The Wonders of Aladdin                      <img src='http://image.tmdb.org/t/p/w185//AvfX...   \n",
       "Deep Hearts                                 <img src='http://image.tmdb.org/t/p/w185//8jI4...   \n",
       "Satan Triumphant                            <img src='http://image.tmdb.org/t/p/w185//aorB...   \n",
       "Queerama                                    <img src='http://image.tmdb.org/t/p/w185//oxFE...   \n",
       "\n",
       "                                            Budget  Revenue  Votes  \\\n",
       "Title                                                                \n",
       "Portrait of a Young Man in Three Movements     NaN      NaN   1.00   \n",
       "Brave Revolutionary                            NaN      NaN   1.00   \n",
       "Other Voices Other Rooms                       NaN      NaN   1.00   \n",
       "The Lion of Thebes                             NaN      NaN   1.00   \n",
       "Katt Williams: Priceless: Afterlife            NaN      NaN   2.00   \n",
       "...                                            ...      ...    ...   \n",
       "Altar of Fire                                  NaN      NaN   0.00   \n",
       "The Wonders of Aladdin                         NaN      NaN   0.00   \n",
       "Deep Hearts                                    NaN      NaN   0.00   \n",
       "Satan Triumphant                               NaN      NaN   0.00   \n",
       "Queerama                                       NaN      NaN   0.00   \n",
       "\n",
       "                                            Avarage Rating  Popularity  \\\n",
       "Title                                                                    \n",
       "Portrait of a Young Man in Three Movements           10.00        0.04   \n",
       "Brave Revolutionary                                  10.00        0.32   \n",
       "Other Voices Other Rooms                             10.00        0.04   \n",
       "The Lion of Thebes                                   10.00        1.78   \n",
       "Katt Williams: Priceless: Afterlife                  10.00        0.48   \n",
       "...                                                    ...         ...   \n",
       "Altar of Fire                                          NaN        0.00   \n",
       "The Wonders of Aladdin                                 NaN        0.09   \n",
       "Deep Hearts                                            NaN        0.01   \n",
       "Satan Triumphant                                       NaN        0.00   \n",
       "Queerama                                               NaN        0.16   \n",
       "\n",
       "                                            Profit  ROI  \n",
       "Title                                                    \n",
       "Portrait of a Young Man in Three Movements     NaN  NaN  \n",
       "Brave Revolutionary                            NaN  NaN  \n",
       "Other Voices Other Rooms                       NaN  NaN  \n",
       "The Lion of Thebes                             NaN  NaN  \n",
       "Katt Williams: Priceless: Afterlife            NaN  NaN  \n",
       "...                                            ...  ...  \n",
       "Altar of Fire                                  NaN  NaN  \n",
       "The Wonders of Aladdin                         NaN  NaN  \n",
       "Deep Hearts                                    NaN  NaN  \n",
       "Satan Triumphant                               NaN  NaN  \n",
       "Queerama                                       NaN  NaN  \n",
       "\n",
       "[44691 rows x 8 columns]"
      ]
     },
     "execution_count": 14,
     "metadata": {},
     "output_type": "execute_result"
    }
   ],
   "source": [
    "df_best.sort_values(by=\"Avarage Rating\",ascending= False)"
   ]
  },
  {
   "cell_type": "code",
   "execution_count": 15,
   "metadata": {},
   "outputs": [
    {
     "data": {
      "text/html": [
       "<div>\n",
       "<style scoped>\n",
       "    .dataframe tbody tr th:only-of-type {\n",
       "        vertical-align: middle;\n",
       "    }\n",
       "\n",
       "    .dataframe tbody tr th {\n",
       "        vertical-align: top;\n",
       "    }\n",
       "\n",
       "    .dataframe thead th {\n",
       "        text-align: right;\n",
       "    }\n",
       "</style>\n",
       "<table border=\"1\" class=\"dataframe\">\n",
       "  <thead>\n",
       "    <tr style=\"text-align: right;\">\n",
       "      <th></th>\n",
       "      <th></th>\n",
       "      <th>Budget</th>\n",
       "      <th>Revenue</th>\n",
       "      <th>Votes</th>\n",
       "      <th>Avarage Rating</th>\n",
       "      <th>Popularity</th>\n",
       "      <th>Profit</th>\n",
       "      <th>ROI</th>\n",
       "    </tr>\n",
       "    <tr>\n",
       "      <th>Title</th>\n",
       "      <th></th>\n",
       "      <th></th>\n",
       "      <th></th>\n",
       "      <th></th>\n",
       "      <th></th>\n",
       "      <th></th>\n",
       "      <th></th>\n",
       "      <th></th>\n",
       "    </tr>\n",
       "  </thead>\n",
       "  <tbody>\n",
       "    <tr>\n",
       "      <th>Less Than Zero</th>\n",
       "      <td>&lt;img src='http://image.tmdb.org/t/p/w185//1GY0...</td>\n",
       "      <td>0.00</td>\n",
       "      <td>12.40</td>\n",
       "      <td>77.00</td>\n",
       "      <td>6.10</td>\n",
       "      <td>4.03</td>\n",
       "      <td>12.40</td>\n",
       "      <td>12396383.00</td>\n",
       "    </tr>\n",
       "    <tr>\n",
       "      <th>Modern Times</th>\n",
       "      <td>&lt;img src='http://image.tmdb.org/t/p/w185//7uoi...</td>\n",
       "      <td>0.00</td>\n",
       "      <td>8.50</td>\n",
       "      <td>881.00</td>\n",
       "      <td>8.10</td>\n",
       "      <td>8.16</td>\n",
       "      <td>8.50</td>\n",
       "      <td>8500000.00</td>\n",
       "    </tr>\n",
       "    <tr>\n",
       "      <th>Welcome to Dongmakgol</th>\n",
       "      <td>&lt;img src='http://image.tmdb.org/t/p/w185//5iGV...</td>\n",
       "      <td>0.00</td>\n",
       "      <td>33.58</td>\n",
       "      <td>49.00</td>\n",
       "      <td>7.70</td>\n",
       "      <td>4.22</td>\n",
       "      <td>33.58</td>\n",
       "      <td>4197476.62</td>\n",
       "    </tr>\n",
       "    <tr>\n",
       "      <th>Aquí Entre Nos</th>\n",
       "      <td>&lt;img src='http://image.tmdb.org/t/p/w185//oflx...</td>\n",
       "      <td>0.00</td>\n",
       "      <td>2.76</td>\n",
       "      <td>3.00</td>\n",
       "      <td>6.00</td>\n",
       "      <td>0.23</td>\n",
       "      <td>2.76</td>\n",
       "      <td>2755584.00</td>\n",
       "    </tr>\n",
       "    <tr>\n",
       "      <th>The Karate Kid, Part II</th>\n",
       "      <td>&lt;img src='http://image.tmdb.org/t/p/w185//mSne...</td>\n",
       "      <td>0.00</td>\n",
       "      <td>115.10</td>\n",
       "      <td>457.00</td>\n",
       "      <td>5.90</td>\n",
       "      <td>9.23</td>\n",
       "      <td>115.10</td>\n",
       "      <td>1018619.28</td>\n",
       "    </tr>\n",
       "    <tr>\n",
       "      <th>...</th>\n",
       "      <td>...</td>\n",
       "      <td>...</td>\n",
       "      <td>...</td>\n",
       "      <td>...</td>\n",
       "      <td>...</td>\n",
       "      <td>...</td>\n",
       "      <td>...</td>\n",
       "      <td>...</td>\n",
       "    </tr>\n",
       "    <tr>\n",
       "      <th>Subdue</th>\n",
       "      <td>&lt;img src='http://image.tmdb.org/t/p/w185//pfC8...</td>\n",
       "      <td>NaN</td>\n",
       "      <td>NaN</td>\n",
       "      <td>1.00</td>\n",
       "      <td>4.00</td>\n",
       "      <td>0.07</td>\n",
       "      <td>NaN</td>\n",
       "      <td>NaN</td>\n",
       "    </tr>\n",
       "    <tr>\n",
       "      <th>Century of Birthing</th>\n",
       "      <td>&lt;img src='http://image.tmdb.org/t/p/w185//xZkm...</td>\n",
       "      <td>NaN</td>\n",
       "      <td>NaN</td>\n",
       "      <td>3.00</td>\n",
       "      <td>9.00</td>\n",
       "      <td>0.18</td>\n",
       "      <td>NaN</td>\n",
       "      <td>NaN</td>\n",
       "    </tr>\n",
       "    <tr>\n",
       "      <th>Betrayal</th>\n",
       "      <td>&lt;img src='http://image.tmdb.org/t/p/w185//eGga...</td>\n",
       "      <td>NaN</td>\n",
       "      <td>NaN</td>\n",
       "      <td>6.00</td>\n",
       "      <td>3.80</td>\n",
       "      <td>0.90</td>\n",
       "      <td>NaN</td>\n",
       "      <td>NaN</td>\n",
       "    </tr>\n",
       "    <tr>\n",
       "      <th>Satan Triumphant</th>\n",
       "      <td>&lt;img src='http://image.tmdb.org/t/p/w185//aorB...</td>\n",
       "      <td>NaN</td>\n",
       "      <td>NaN</td>\n",
       "      <td>0.00</td>\n",
       "      <td>NaN</td>\n",
       "      <td>0.00</td>\n",
       "      <td>NaN</td>\n",
       "      <td>NaN</td>\n",
       "    </tr>\n",
       "    <tr>\n",
       "      <th>Queerama</th>\n",
       "      <td>&lt;img src='http://image.tmdb.org/t/p/w185//oxFE...</td>\n",
       "      <td>NaN</td>\n",
       "      <td>NaN</td>\n",
       "      <td>0.00</td>\n",
       "      <td>NaN</td>\n",
       "      <td>0.16</td>\n",
       "      <td>NaN</td>\n",
       "      <td>NaN</td>\n",
       "    </tr>\n",
       "  </tbody>\n",
       "</table>\n",
       "<p>44691 rows × 8 columns</p>\n",
       "</div>"
      ],
      "text/plain": [
       "                                                                            \\\n",
       "Title                                                                        \n",
       "Less Than Zero           <img src='http://image.tmdb.org/t/p/w185//1GY0...   \n",
       "Modern Times             <img src='http://image.tmdb.org/t/p/w185//7uoi...   \n",
       "Welcome to Dongmakgol    <img src='http://image.tmdb.org/t/p/w185//5iGV...   \n",
       "Aquí Entre Nos           <img src='http://image.tmdb.org/t/p/w185//oflx...   \n",
       "The Karate Kid, Part II  <img src='http://image.tmdb.org/t/p/w185//mSne...   \n",
       "...                                                                    ...   \n",
       "Subdue                   <img src='http://image.tmdb.org/t/p/w185//pfC8...   \n",
       "Century of Birthing      <img src='http://image.tmdb.org/t/p/w185//xZkm...   \n",
       "Betrayal                 <img src='http://image.tmdb.org/t/p/w185//eGga...   \n",
       "Satan Triumphant         <img src='http://image.tmdb.org/t/p/w185//aorB...   \n",
       "Queerama                 <img src='http://image.tmdb.org/t/p/w185//oxFE...   \n",
       "\n",
       "                         Budget  Revenue  Votes  Avarage Rating  Popularity  \\\n",
       "Title                                                                         \n",
       "Less Than Zero             0.00    12.40  77.00            6.10        4.03   \n",
       "Modern Times               0.00     8.50 881.00            8.10        8.16   \n",
       "Welcome to Dongmakgol      0.00    33.58  49.00            7.70        4.22   \n",
       "Aquí Entre Nos             0.00     2.76   3.00            6.00        0.23   \n",
       "The Karate Kid, Part II    0.00   115.10 457.00            5.90        9.23   \n",
       "...                         ...      ...    ...             ...         ...   \n",
       "Subdue                      NaN      NaN   1.00            4.00        0.07   \n",
       "Century of Birthing         NaN      NaN   3.00            9.00        0.18   \n",
       "Betrayal                    NaN      NaN   6.00            3.80        0.90   \n",
       "Satan Triumphant            NaN      NaN   0.00             NaN        0.00   \n",
       "Queerama                    NaN      NaN   0.00             NaN        0.16   \n",
       "\n",
       "                         Profit         ROI  \n",
       "Title                                        \n",
       "Less Than Zero            12.40 12396383.00  \n",
       "Modern Times               8.50  8500000.00  \n",
       "Welcome to Dongmakgol     33.58  4197476.62  \n",
       "Aquí Entre Nos             2.76  2755584.00  \n",
       "The Karate Kid, Part II  115.10  1018619.28  \n",
       "...                         ...         ...  \n",
       "Subdue                      NaN         NaN  \n",
       "Century of Birthing         NaN         NaN  \n",
       "Betrayal                    NaN         NaN  \n",
       "Satan Triumphant            NaN         NaN  \n",
       "Queerama                    NaN         NaN  \n",
       "\n",
       "[44691 rows x 8 columns]"
      ]
     },
     "execution_count": 15,
     "metadata": {},
     "output_type": "execute_result"
    }
   ],
   "source": [
    "df_best.sort_values(by = 'ROI',ascending=False)"
   ]
  },
  {
   "cell_type": "code",
   "execution_count": 16,
   "metadata": {},
   "outputs": [
    {
     "data": {
      "text/html": [
       "<div>\n",
       "<style scoped>\n",
       "    .dataframe tbody tr th:only-of-type {\n",
       "        vertical-align: middle;\n",
       "    }\n",
       "\n",
       "    .dataframe tbody tr th {\n",
       "        vertical-align: top;\n",
       "    }\n",
       "\n",
       "    .dataframe thead th {\n",
       "        text-align: right;\n",
       "    }\n",
       "</style>\n",
       "<table border=\"1\" class=\"dataframe\">\n",
       "  <thead>\n",
       "    <tr style=\"text-align: right;\">\n",
       "      <th></th>\n",
       "      <th></th>\n",
       "      <th>Budget</th>\n",
       "      <th>Revenue</th>\n",
       "      <th>Votes</th>\n",
       "      <th>Avarage Rating</th>\n",
       "      <th>Popularity</th>\n",
       "      <th>Profit</th>\n",
       "      <th>ROI</th>\n",
       "    </tr>\n",
       "    <tr>\n",
       "      <th>Title</th>\n",
       "      <th></th>\n",
       "      <th></th>\n",
       "      <th></th>\n",
       "      <th></th>\n",
       "      <th></th>\n",
       "      <th></th>\n",
       "      <th></th>\n",
       "      <th></th>\n",
       "    </tr>\n",
       "  </thead>\n",
       "  <tbody>\n",
       "    <tr>\n",
       "      <th>E.T. the Extra-Terrestrial</th>\n",
       "      <td>&lt;img src='http://image.tmdb.org/t/p/w185//cBfk...</td>\n",
       "      <td>10.50</td>\n",
       "      <td>792.97</td>\n",
       "      <td>3359.00</td>\n",
       "      <td>7.30</td>\n",
       "      <td>19.36</td>\n",
       "      <td>782.47</td>\n",
       "      <td>75.52</td>\n",
       "    </tr>\n",
       "    <tr>\n",
       "      <th>My Big Fat Greek Wedding</th>\n",
       "      <td>&lt;img src='http://image.tmdb.org/t/p/w185//3TB2...</td>\n",
       "      <td>5.00</td>\n",
       "      <td>368.74</td>\n",
       "      <td>686.00</td>\n",
       "      <td>6.20</td>\n",
       "      <td>6.72</td>\n",
       "      <td>363.74</td>\n",
       "      <td>73.75</td>\n",
       "    </tr>\n",
       "    <tr>\n",
       "      <th>Star Wars</th>\n",
       "      <td>&lt;img src='http://image.tmdb.org/t/p/w185//6FfC...</td>\n",
       "      <td>11.00</td>\n",
       "      <td>775.40</td>\n",
       "      <td>6778.00</td>\n",
       "      <td>8.10</td>\n",
       "      <td>42.15</td>\n",
       "      <td>764.40</td>\n",
       "      <td>70.49</td>\n",
       "    </tr>\n",
       "    <tr>\n",
       "      <th>Jaws</th>\n",
       "      <td>&lt;img src='http://image.tmdb.org/t/p/w185//s2xc...</td>\n",
       "      <td>7.00</td>\n",
       "      <td>470.65</td>\n",
       "      <td>2628.00</td>\n",
       "      <td>7.50</td>\n",
       "      <td>19.73</td>\n",
       "      <td>463.65</td>\n",
       "      <td>67.24</td>\n",
       "    </tr>\n",
       "    <tr>\n",
       "      <th>Crocodile Dundee</th>\n",
       "      <td>&lt;img src='http://image.tmdb.org/t/p/w185//kiwO...</td>\n",
       "      <td>5.00</td>\n",
       "      <td>328.20</td>\n",
       "      <td>512.00</td>\n",
       "      <td>6.30</td>\n",
       "      <td>7.79</td>\n",
       "      <td>323.20</td>\n",
       "      <td>65.64</td>\n",
       "    </tr>\n",
       "    <tr>\n",
       "      <th>...</th>\n",
       "      <td>...</td>\n",
       "      <td>...</td>\n",
       "      <td>...</td>\n",
       "      <td>...</td>\n",
       "      <td>...</td>\n",
       "      <td>...</td>\n",
       "      <td>...</td>\n",
       "      <td>...</td>\n",
       "    </tr>\n",
       "    <tr>\n",
       "      <th>The Blonde with Bare Breasts</th>\n",
       "      <td>&lt;img src='http://image.tmdb.org/t/p/w185//zBjp...</td>\n",
       "      <td>7.50</td>\n",
       "      <td>NaN</td>\n",
       "      <td>3.00</td>\n",
       "      <td>4.00</td>\n",
       "      <td>0.88</td>\n",
       "      <td>NaN</td>\n",
       "      <td>NaN</td>\n",
       "    </tr>\n",
       "    <tr>\n",
       "      <th>Detroit</th>\n",
       "      <td>&lt;img src='http://image.tmdb.org/t/p/w185//7APL...</td>\n",
       "      <td>34.00</td>\n",
       "      <td>NaN</td>\n",
       "      <td>67.00</td>\n",
       "      <td>7.30</td>\n",
       "      <td>9.80</td>\n",
       "      <td>NaN</td>\n",
       "      <td>NaN</td>\n",
       "    </tr>\n",
       "    <tr>\n",
       "      <th>Good Guys Go to Heaven, Bad Guys Go to Pattaya</th>\n",
       "      <td>&lt;img src='http://image.tmdb.org/t/p/w185//cfVB...</td>\n",
       "      <td>5.40</td>\n",
       "      <td>NaN</td>\n",
       "      <td>153.00</td>\n",
       "      <td>5.30</td>\n",
       "      <td>5.61</td>\n",
       "      <td>NaN</td>\n",
       "      <td>NaN</td>\n",
       "    </tr>\n",
       "    <tr>\n",
       "      <th>The Visitors: Bastille Day</th>\n",
       "      <td>&lt;img src='http://image.tmdb.org/t/p/w185//kBlm...</td>\n",
       "      <td>25.87</td>\n",
       "      <td>NaN</td>\n",
       "      <td>167.00</td>\n",
       "      <td>4.00</td>\n",
       "      <td>7.29</td>\n",
       "      <td>NaN</td>\n",
       "      <td>NaN</td>\n",
       "    </tr>\n",
       "    <tr>\n",
       "      <th>House of the Long Shadows</th>\n",
       "      <td>&lt;img src='http://image.tmdb.org/t/p/w185//21ZG...</td>\n",
       "      <td>7.50</td>\n",
       "      <td>NaN</td>\n",
       "      <td>18.00</td>\n",
       "      <td>6.10</td>\n",
       "      <td>1.19</td>\n",
       "      <td>NaN</td>\n",
       "      <td>NaN</td>\n",
       "    </tr>\n",
       "  </tbody>\n",
       "</table>\n",
       "<p>5449 rows × 8 columns</p>\n",
       "</div>"
      ],
      "text/plain": [
       "                                                                                                   \\\n",
       "Title                                                                                               \n",
       "E.T. the Extra-Terrestrial                      <img src='http://image.tmdb.org/t/p/w185//cBfk...   \n",
       "My Big Fat Greek Wedding                        <img src='http://image.tmdb.org/t/p/w185//3TB2...   \n",
       "Star Wars                                       <img src='http://image.tmdb.org/t/p/w185//6FfC...   \n",
       "Jaws                                            <img src='http://image.tmdb.org/t/p/w185//s2xc...   \n",
       "Crocodile Dundee                                <img src='http://image.tmdb.org/t/p/w185//kiwO...   \n",
       "...                                                                                           ...   \n",
       "The Blonde with Bare Breasts                    <img src='http://image.tmdb.org/t/p/w185//zBjp...   \n",
       "Detroit                                         <img src='http://image.tmdb.org/t/p/w185//7APL...   \n",
       "Good Guys Go to Heaven, Bad Guys Go to Pattaya  <img src='http://image.tmdb.org/t/p/w185//cfVB...   \n",
       "The Visitors: Bastille Day                      <img src='http://image.tmdb.org/t/p/w185//kBlm...   \n",
       "House of the Long Shadows                       <img src='http://image.tmdb.org/t/p/w185//21ZG...   \n",
       "\n",
       "                                                Budget  Revenue   Votes  \\\n",
       "Title                                                                     \n",
       "E.T. the Extra-Terrestrial                       10.50   792.97 3359.00   \n",
       "My Big Fat Greek Wedding                          5.00   368.74  686.00   \n",
       "Star Wars                                        11.00   775.40 6778.00   \n",
       "Jaws                                              7.00   470.65 2628.00   \n",
       "Crocodile Dundee                                  5.00   328.20  512.00   \n",
       "...                                                ...      ...     ...   \n",
       "The Blonde with Bare Breasts                      7.50      NaN    3.00   \n",
       "Detroit                                          34.00      NaN   67.00   \n",
       "Good Guys Go to Heaven, Bad Guys Go to Pattaya    5.40      NaN  153.00   \n",
       "The Visitors: Bastille Day                       25.87      NaN  167.00   \n",
       "House of the Long Shadows                         7.50      NaN   18.00   \n",
       "\n",
       "                                                Avarage Rating  Popularity  \\\n",
       "Title                                                                        \n",
       "E.T. the Extra-Terrestrial                                7.30       19.36   \n",
       "My Big Fat Greek Wedding                                  6.20        6.72   \n",
       "Star Wars                                                 8.10       42.15   \n",
       "Jaws                                                      7.50       19.73   \n",
       "Crocodile Dundee                                          6.30        7.79   \n",
       "...                                                        ...         ...   \n",
       "The Blonde with Bare Breasts                              4.00        0.88   \n",
       "Detroit                                                   7.30        9.80   \n",
       "Good Guys Go to Heaven, Bad Guys Go to Pattaya            5.30        5.61   \n",
       "The Visitors: Bastille Day                                4.00        7.29   \n",
       "House of the Long Shadows                                 6.10        1.19   \n",
       "\n",
       "                                                Profit   ROI  \n",
       "Title                                                         \n",
       "E.T. the Extra-Terrestrial                      782.47 75.52  \n",
       "My Big Fat Greek Wedding                        363.74 73.75  \n",
       "Star Wars                                       764.40 70.49  \n",
       "Jaws                                            463.65 67.24  \n",
       "Crocodile Dundee                                323.20 65.64  \n",
       "...                                                ...   ...  \n",
       "The Blonde with Bare Breasts                       NaN   NaN  \n",
       "Detroit                                            NaN   NaN  \n",
       "Good Guys Go to Heaven, Bad Guys Go to Pattaya     NaN   NaN  \n",
       "The Visitors: Bastille Day                         NaN   NaN  \n",
       "House of the Long Shadows                          NaN   NaN  \n",
       "\n",
       "[5449 rows x 8 columns]"
      ]
     },
     "execution_count": 16,
     "metadata": {},
     "output_type": "execute_result"
    }
   ],
   "source": [
    "df_best.loc[df_best.Budget >= 5].sort_values(by='ROI', ascending= False)"
   ]
  },
  {
   "cell_type": "code",
   "execution_count": 17,
   "metadata": {},
   "outputs": [],
   "source": [
    "df_best.Budget.fillna(0, inplace = True)\n",
    "df_best.Votes.fillna(0,inplace=True)"
   ]
  },
  {
   "cell_type": "code",
   "execution_count": 18,
   "metadata": {},
   "outputs": [
    {
     "name": "stdout",
     "output_type": "stream",
     "text": [
      "<class 'pandas.core.frame.DataFrame'>\n",
      "Index: 44691 entries, Toy Story to Queerama\n",
      "Data columns (total 8 columns):\n",
      " #   Column          Non-Null Count  Dtype  \n",
      "---  ------          --------------  -----  \n",
      " 0                   44467 non-null  object \n",
      " 1   Budget          44691 non-null  float64\n",
      " 2   Revenue         7385 non-null   float64\n",
      " 3   Votes           44691 non-null  float64\n",
      " 4   Avarage Rating  42077 non-null  float64\n",
      " 5   Popularity      44691 non-null  float64\n",
      " 6   Profit          5371 non-null   float64\n",
      " 7   ROI             5371 non-null   float64\n",
      "dtypes: float64(7), object(1)\n",
      "memory usage: 3.1+ MB\n"
     ]
    }
   ],
   "source": [
    "df_best.info()"
   ]
  },
  {
   "cell_type": "code",
   "execution_count": 19,
   "metadata": {},
   "outputs": [],
   "source": [
    "def best_worst(n,by,ascending=False,min_bud=0,min_votes=0):\n",
    "    df2 = df_best.loc[(df_best.Budget >=min_bud) & (df_best.Votes >= min_votes), \n",
    "                     [\"\", by]].sort_values(by=by,ascending=ascending).head(n).copy()\n",
    "    return HTML(df2.to_html(escape=False))"
   ]
  },
  {
   "cell_type": "markdown",
   "metadata": {},
   "source": [
    "### The best and the worst movies Part 2"
   ]
  },
  {
   "cell_type": "markdown",
   "metadata": {},
   "source": [
    "#### Movies top 5 - Highest Revenue"
   ]
  },
  {
   "cell_type": "code",
   "execution_count": 20,
   "metadata": {},
   "outputs": [
    {
     "data": {
      "text/html": [
       "<table border=\"1\" class=\"dataframe\">\n",
       "  <thead>\n",
       "    <tr style=\"text-align: right;\">\n",
       "      <th></th>\n",
       "      <th></th>\n",
       "      <th>Revenue</th>\n",
       "    </tr>\n",
       "    <tr>\n",
       "      <th>Title</th>\n",
       "      <th></th>\n",
       "      <th></th>\n",
       "    </tr>\n",
       "  </thead>\n",
       "  <tbody>\n",
       "    <tr>\n",
       "      <th>Avatar</th>\n",
       "      <td><img src='http://image.tmdb.org/t/p/w185//btnl50ZDJDSCal2NLQIYWw0XxvH.jpg' style='height:100px;'></td>\n",
       "      <td>2787.97</td>\n",
       "    </tr>\n",
       "    <tr>\n",
       "      <th>Star Wars: The Force Awakens</th>\n",
       "      <td><img src='http://image.tmdb.org/t/p/w185//9rd002JS49RwDW944fF1wjU8iTV.jpg' style='height:100px;'></td>\n",
       "      <td>2068.22</td>\n",
       "    </tr>\n",
       "    <tr>\n",
       "      <th>Titanic</th>\n",
       "      <td><img src='http://image.tmdb.org/t/p/w185//9xjZS2rlVxm8SFx8kPC3aIGCOYQ.jpg' style='height:100px;'></td>\n",
       "      <td>1845.03</td>\n",
       "    </tr>\n",
       "    <tr>\n",
       "      <th>The Avengers</th>\n",
       "      <td><img src='http://image.tmdb.org/t/p/w185//RYMX2wcKCBAr24UyPD7xwmjaTn.jpg' style='height:100px;'></td>\n",
       "      <td>1519.56</td>\n",
       "    </tr>\n",
       "    <tr>\n",
       "      <th>Jurassic World</th>\n",
       "      <td><img src='http://image.tmdb.org/t/p/w185//rhr4y79GpxQF9IsfJItRXVaoGs4.jpg' style='height:100px;'></td>\n",
       "      <td>1513.53</td>\n",
       "    </tr>\n",
       "  </tbody>\n",
       "</table>"
      ],
      "text/plain": [
       "<IPython.core.display.HTML object>"
      ]
     },
     "execution_count": 20,
     "metadata": {},
     "output_type": "execute_result"
    }
   ],
   "source": [
    "best_worst(n = 5,by=\"Revenue\")"
   ]
  },
  {
   "cell_type": "markdown",
   "metadata": {},
   "source": [
    "#### Movie Top 5- Highest Budget"
   ]
  },
  {
   "cell_type": "code",
   "execution_count": 21,
   "metadata": {},
   "outputs": [
    {
     "data": {
      "text/html": [
       "<table border=\"1\" class=\"dataframe\">\n",
       "  <thead>\n",
       "    <tr style=\"text-align: right;\">\n",
       "      <th></th>\n",
       "      <th></th>\n",
       "      <th>Budget</th>\n",
       "    </tr>\n",
       "    <tr>\n",
       "      <th>Title</th>\n",
       "      <th></th>\n",
       "      <th></th>\n",
       "    </tr>\n",
       "  </thead>\n",
       "  <tbody>\n",
       "    <tr>\n",
       "      <th>Pirates of the Caribbean: On Stranger Tides</th>\n",
       "      <td><img src='http://image.tmdb.org/t/p/w185//keGfSvCmYj7CvdRx36OdVrAEibE.jpg' style='height:100px;'></td>\n",
       "      <td>380.00</td>\n",
       "    </tr>\n",
       "    <tr>\n",
       "      <th>Pirates of the Caribbean: At World's End</th>\n",
       "      <td><img src='http://image.tmdb.org/t/p/w185//oVh3REsCwJwmrTkZ9OkkeKiAE02.jpg' style='height:100px;'></td>\n",
       "      <td>300.00</td>\n",
       "    </tr>\n",
       "    <tr>\n",
       "      <th>Avengers: Age of Ultron</th>\n",
       "      <td><img src='http://image.tmdb.org/t/p/w185//4ssDuvEDkSArWEdyBl2X5EHvYKU.jpg' style='height:100px;'></td>\n",
       "      <td>280.00</td>\n",
       "    </tr>\n",
       "    <tr>\n",
       "      <th>Superman Returns</th>\n",
       "      <td><img src='http://image.tmdb.org/t/p/w185//6ZYOpyhFZrAQIe1BuhqVgzfAdGZ.jpg' style='height:100px;'></td>\n",
       "      <td>270.00</td>\n",
       "    </tr>\n",
       "    <tr>\n",
       "      <th>Transformers: The Last Knight</th>\n",
       "      <td><img src='http://image.tmdb.org/t/p/w185//s5HQf2Gb3lIO2cRcFwNL9sn1o1o.jpg' style='height:100px;'></td>\n",
       "      <td>260.00</td>\n",
       "    </tr>\n",
       "  </tbody>\n",
       "</table>"
      ],
      "text/plain": [
       "<IPython.core.display.HTML object>"
      ]
     },
     "execution_count": 21,
     "metadata": {},
     "output_type": "execute_result"
    }
   ],
   "source": [
    "best_worst(5,\"Budget\")"
   ]
  },
  {
   "cell_type": "code",
   "execution_count": 22,
   "metadata": {},
   "outputs": [
    {
     "data": {
      "text/html": [
       "<table border=\"1\" class=\"dataframe\">\n",
       "  <thead>\n",
       "    <tr style=\"text-align: right;\">\n",
       "      <th></th>\n",
       "      <th></th>\n",
       "      <th>Profit</th>\n",
       "    </tr>\n",
       "    <tr>\n",
       "      <th>Title</th>\n",
       "      <th></th>\n",
       "      <th></th>\n",
       "    </tr>\n",
       "  </thead>\n",
       "  <tbody>\n",
       "    <tr>\n",
       "      <th>Avatar</th>\n",
       "      <td><img src='http://image.tmdb.org/t/p/w185//btnl50ZDJDSCal2NLQIYWw0XxvH.jpg' style='height:100px;'></td>\n",
       "      <td>2550.97</td>\n",
       "    </tr>\n",
       "    <tr>\n",
       "      <th>Star Wars: The Force Awakens</th>\n",
       "      <td><img src='http://image.tmdb.org/t/p/w185//9rd002JS49RwDW944fF1wjU8iTV.jpg' style='height:100px;'></td>\n",
       "      <td>1823.22</td>\n",
       "    </tr>\n",
       "    <tr>\n",
       "      <th>Titanic</th>\n",
       "      <td><img src='http://image.tmdb.org/t/p/w185//9xjZS2rlVxm8SFx8kPC3aIGCOYQ.jpg' style='height:100px;'></td>\n",
       "      <td>1645.03</td>\n",
       "    </tr>\n",
       "    <tr>\n",
       "      <th>Jurassic World</th>\n",
       "      <td><img src='http://image.tmdb.org/t/p/w185//rhr4y79GpxQF9IsfJItRXVaoGs4.jpg' style='height:100px;'></td>\n",
       "      <td>1363.53</td>\n",
       "    </tr>\n",
       "    <tr>\n",
       "      <th>Furious 7</th>\n",
       "      <td><img src='http://image.tmdb.org/t/p/w185//d9jZ2bKZw3ptTuxAyVHA6olPAVs.jpg' style='height:100px;'></td>\n",
       "      <td>1316.25</td>\n",
       "    </tr>\n",
       "  </tbody>\n",
       "</table>"
      ],
      "text/plain": [
       "<IPython.core.display.HTML object>"
      ]
     },
     "execution_count": 22,
     "metadata": {},
     "output_type": "execute_result"
    }
   ],
   "source": [
    "best_worst(5,\"Profit\")"
   ]
  },
  {
   "cell_type": "markdown",
   "metadata": {},
   "source": [
    "#### Movie Top 5 - Lowest Profit"
   ]
  },
  {
   "cell_type": "code",
   "execution_count": 23,
   "metadata": {},
   "outputs": [
    {
     "data": {
      "text/html": [
       "<table border=\"1\" class=\"dataframe\">\n",
       "  <thead>\n",
       "    <tr style=\"text-align: right;\">\n",
       "      <th></th>\n",
       "      <th></th>\n",
       "      <th>Profit</th>\n",
       "    </tr>\n",
       "    <tr>\n",
       "      <th>Title</th>\n",
       "      <th></th>\n",
       "      <th></th>\n",
       "    </tr>\n",
       "  </thead>\n",
       "  <tbody>\n",
       "    <tr>\n",
       "      <th>The Lone Ranger</th>\n",
       "      <td><img src='http://image.tmdb.org/t/p/w185//b2je2ZybNIzAOL1K1WPbbT6zt2M.jpg' style='height:100px;'></td>\n",
       "      <td>-165.71</td>\n",
       "    </tr>\n",
       "    <tr>\n",
       "      <th>The Alamo</th>\n",
       "      <td><img src='http://image.tmdb.org/t/p/w185//aZrWYkxCCwSPKp4VjVvn46uHbIX.jpg' style='height:100px;'></td>\n",
       "      <td>-119.18</td>\n",
       "    </tr>\n",
       "    <tr>\n",
       "      <th>Mars Needs Moms</th>\n",
       "      <td><img src='http://image.tmdb.org/t/p/w185//lOKqLd0ud1wdwaPK5h6bGNZIVLT.jpg' style='height:100px;'></td>\n",
       "      <td>-111.01</td>\n",
       "    </tr>\n",
       "    <tr>\n",
       "      <th>Valerian and the City of a Thousand Planets</th>\n",
       "      <td><img src='http://image.tmdb.org/t/p/w185//jfIpMh79fGRqYJ6PwZLCntzgxlF.jpg' style='height:100px;'></td>\n",
       "      <td>-107.45</td>\n",
       "    </tr>\n",
       "    <tr>\n",
       "      <th>The 13th Warrior</th>\n",
       "      <td><img src='http://image.tmdb.org/t/p/w185//7pyhR5K1iv67daYw0DfsmsersKA.jpg' style='height:100px;'></td>\n",
       "      <td>-98.30</td>\n",
       "    </tr>\n",
       "  </tbody>\n",
       "</table>"
      ],
      "text/plain": [
       "<IPython.core.display.HTML object>"
      ]
     },
     "execution_count": 23,
     "metadata": {},
     "output_type": "execute_result"
    }
   ],
   "source": [
    "best_worst(5,\"Profit\",ascending=True)"
   ]
  },
  {
   "cell_type": "markdown",
   "metadata": {},
   "source": [
    "#### Movie Top 5 - Highest ROI"
   ]
  },
  {
   "cell_type": "code",
   "execution_count": 24,
   "metadata": {},
   "outputs": [
    {
     "data": {
      "text/html": [
       "<table border=\"1\" class=\"dataframe\">\n",
       "  <thead>\n",
       "    <tr style=\"text-align: right;\">\n",
       "      <th></th>\n",
       "      <th></th>\n",
       "      <th>ROI</th>\n",
       "    </tr>\n",
       "    <tr>\n",
       "      <th>Title</th>\n",
       "      <th></th>\n",
       "      <th></th>\n",
       "    </tr>\n",
       "  </thead>\n",
       "  <tbody>\n",
       "    <tr>\n",
       "      <th>Foodfight!</th>\n",
       "      <td><img src='http://image.tmdb.org/t/p/w185//R1zn75Yz4wpdd85byqhP7mT6No.jpg' style='height:100px;'></td>\n",
       "      <td>0.00</td>\n",
       "    </tr>\n",
       "    <tr>\n",
       "      <th>Metropolis</th>\n",
       "      <td><img src='http://image.tmdb.org/t/p/w185//3F5OKhpC6rqq5KdjgixNbqjWSWz.jpg' style='height:100px;'></td>\n",
       "      <td>0.01</td>\n",
       "    </tr>\n",
       "    <tr>\n",
       "      <th>Lolita</th>\n",
       "      <td><img src='http://image.tmdb.org/t/p/w185//unGWuk8kax8r4PlbGJL9y6WnfFx.jpg' style='height:100px;'></td>\n",
       "      <td>0.02</td>\n",
       "    </tr>\n",
       "    <tr>\n",
       "      <th>Child 44</th>\n",
       "      <td><img src='http://image.tmdb.org/t/p/w185//qqGhMt31HVUN3WnH0L2r0OWq38E.jpg' style='height:100px;'></td>\n",
       "      <td>0.07</td>\n",
       "    </tr>\n",
       "    <tr>\n",
       "      <th>The Adventures of Pluto Nash</th>\n",
       "      <td><img src='http://image.tmdb.org/t/p/w185//96vvhLWWDosS1zRrfQ6XEGAzByL.jpg' style='height:100px;'></td>\n",
       "      <td>0.07</td>\n",
       "    </tr>\n",
       "  </tbody>\n",
       "</table>"
      ],
      "text/plain": [
       "<IPython.core.display.HTML object>"
      ]
     },
     "execution_count": 24,
     "metadata": {},
     "output_type": "execute_result"
    }
   ],
   "source": [
    "best_worst(5,\"ROI\",ascending=True,min_bud=50)"
   ]
  },
  {
   "cell_type": "markdown",
   "metadata": {},
   "source": [
    "#### Movie Top 5 - Lowest ROI"
   ]
  },
  {
   "cell_type": "code",
   "execution_count": 25,
   "metadata": {},
   "outputs": [
    {
     "data": {
      "text/html": [
       "<table border=\"1\" class=\"dataframe\">\n",
       "  <thead>\n",
       "    <tr style=\"text-align: right;\">\n",
       "      <th></th>\n",
       "      <th></th>\n",
       "      <th>ROI</th>\n",
       "    </tr>\n",
       "    <tr>\n",
       "      <th>Title</th>\n",
       "      <th></th>\n",
       "      <th></th>\n",
       "    </tr>\n",
       "  </thead>\n",
       "  <tbody>\n",
       "    <tr>\n",
       "      <th>Chasing Liberty</th>\n",
       "      <td><img src='http://image.tmdb.org/t/p/w185//7qzvS9QKkiDcz1K8EY9Y6ZXkUeD.jpg' style='height:100px;'></td>\n",
       "      <td>0.00</td>\n",
       "    </tr>\n",
       "    <tr>\n",
       "      <th>The Cookout</th>\n",
       "      <td><img src='http://image.tmdb.org/t/p/w185//eUVEPES8KhnXbTG3G74UZfVQRb7.jpg' style='height:100px;'></td>\n",
       "      <td>0.00</td>\n",
       "    </tr>\n",
       "    <tr>\n",
       "      <th>Deadfall</th>\n",
       "      <td><img src='http://image.tmdb.org/t/p/w185//kgfvIzCG9PYjYfEtcIPuJpGiY9m.jpg' style='height:100px;'></td>\n",
       "      <td>0.00</td>\n",
       "    </tr>\n",
       "    <tr>\n",
       "      <th>In the Cut</th>\n",
       "      <td><img src='http://image.tmdb.org/t/p/w185//lcorM51zECU9prrVCvhvpxfkPhb.jpg' style='height:100px;'></td>\n",
       "      <td>0.00</td>\n",
       "    </tr>\n",
       "    <tr>\n",
       "      <th>The Samaritan</th>\n",
       "      <td><img src='http://image.tmdb.org/t/p/w185//zSwCwoi2dQmWcwYT0ea9zH6OXN9.jpg' style='height:100px;'></td>\n",
       "      <td>0.00</td>\n",
       "    </tr>\n",
       "  </tbody>\n",
       "</table>"
      ],
      "text/plain": [
       "<IPython.core.display.HTML object>"
      ]
     },
     "execution_count": 25,
     "metadata": {},
     "output_type": "execute_result"
    }
   ],
   "source": [
    "best_worst(5,\"ROI\",ascending=True,min_bud=10)"
   ]
  },
  {
   "cell_type": "markdown",
   "metadata": {},
   "source": [
    "#### Movie top 5 - Most Votes"
   ]
  },
  {
   "cell_type": "code",
   "execution_count": 26,
   "metadata": {},
   "outputs": [
    {
     "data": {
      "text/html": [
       "<table border=\"1\" class=\"dataframe\">\n",
       "  <thead>\n",
       "    <tr style=\"text-align: right;\">\n",
       "      <th></th>\n",
       "      <th></th>\n",
       "      <th>Votes</th>\n",
       "    </tr>\n",
       "    <tr>\n",
       "      <th>Title</th>\n",
       "      <th></th>\n",
       "      <th></th>\n",
       "    </tr>\n",
       "  </thead>\n",
       "  <tbody>\n",
       "    <tr>\n",
       "      <th>Inception</th>\n",
       "      <td><img src='http://image.tmdb.org/t/p/w185//9gk7adHYeDvHkCSEqAvQNLV5Uge.jpg' style='height:100px;'></td>\n",
       "      <td>14075.00</td>\n",
       "    </tr>\n",
       "    <tr>\n",
       "      <th>The Dark Knight</th>\n",
       "      <td><img src='http://image.tmdb.org/t/p/w185//qJ2tW6WMUDux911r6m7haRef0WH.jpg' style='height:100px;'></td>\n",
       "      <td>12269.00</td>\n",
       "    </tr>\n",
       "    <tr>\n",
       "      <th>Avatar</th>\n",
       "      <td><img src='http://image.tmdb.org/t/p/w185//btnl50ZDJDSCal2NLQIYWw0XxvH.jpg' style='height:100px;'></td>\n",
       "      <td>12114.00</td>\n",
       "    </tr>\n",
       "    <tr>\n",
       "      <th>The Avengers</th>\n",
       "      <td><img src='http://image.tmdb.org/t/p/w185//RYMX2wcKCBAr24UyPD7xwmjaTn.jpg' style='height:100px;'></td>\n",
       "      <td>12000.00</td>\n",
       "    </tr>\n",
       "    <tr>\n",
       "      <th>Deadpool</th>\n",
       "      <td><img src='http://image.tmdb.org/t/p/w185//fSRb7vyIP8rQpL0I47P3qUsEKX3.jpg' style='height:100px;'></td>\n",
       "      <td>11444.00</td>\n",
       "    </tr>\n",
       "  </tbody>\n",
       "</table>"
      ],
      "text/plain": [
       "<IPython.core.display.HTML object>"
      ]
     },
     "execution_count": 26,
     "metadata": {},
     "output_type": "execute_result"
    }
   ],
   "source": [
    "best_worst(5,\"Votes\")"
   ]
  },
  {
   "cell_type": "markdown",
   "metadata": {},
   "source": [
    "#### Movie Top 5 - Highest Rating"
   ]
  },
  {
   "cell_type": "code",
   "execution_count": 27,
   "metadata": {},
   "outputs": [
    {
     "data": {
      "text/html": [
       "<table border=\"1\" class=\"dataframe\">\n",
       "  <thead>\n",
       "    <tr style=\"text-align: right;\">\n",
       "      <th></th>\n",
       "      <th></th>\n",
       "      <th>Avarage Rating</th>\n",
       "    </tr>\n",
       "    <tr>\n",
       "      <th>Title</th>\n",
       "      <th></th>\n",
       "      <th></th>\n",
       "    </tr>\n",
       "  </thead>\n",
       "  <tbody>\n",
       "    <tr>\n",
       "      <th>Portrait of a Young Man in Three Movements</th>\n",
       "      <td>NaN</td>\n",
       "      <td>10.00</td>\n",
       "    </tr>\n",
       "    <tr>\n",
       "      <th>Brave Revolutionary</th>\n",
       "      <td><img src='http://image.tmdb.org/t/p/w185//zAb2YxgYSJTcloGTHAA9ogOVq7M.jpg' style='height:100px;'></td>\n",
       "      <td>10.00</td>\n",
       "    </tr>\n",
       "    <tr>\n",
       "      <th>Other Voices Other Rooms</th>\n",
       "      <td><img src='http://image.tmdb.org/t/p/w185//4ifPBA4AjRQWxgVJAwSwWp6nFCa.jpg' style='height:100px;'></td>\n",
       "      <td>10.00</td>\n",
       "    </tr>\n",
       "    <tr>\n",
       "      <th>The Lion of Thebes</th>\n",
       "      <td><img src='http://image.tmdb.org/t/p/w185//tdOcmIjI8sx9RZIsVgOlq4kQgJ4.jpg' style='height:100px;'></td>\n",
       "      <td>10.00</td>\n",
       "    </tr>\n",
       "    <tr>\n",
       "      <th>Katt Williams: Priceless: Afterlife</th>\n",
       "      <td><img src='http://image.tmdb.org/t/p/w185//wKrH5tKdJa3y5jqAQM1eYmkXbHX.jpg' style='height:100px;'></td>\n",
       "      <td>10.00</td>\n",
       "    </tr>\n",
       "  </tbody>\n",
       "</table>"
      ],
      "text/plain": [
       "<IPython.core.display.HTML object>"
      ]
     },
     "execution_count": 27,
     "metadata": {},
     "output_type": "execute_result"
    }
   ],
   "source": [
    "best_worst(5,\"Avarage Rating\", min_votes=0)"
   ]
  },
  {
   "cell_type": "markdown",
   "metadata": {},
   "source": [
    "#### Movies Top 5 - Lowest Rating"
   ]
  },
  {
   "cell_type": "code",
   "execution_count": 28,
   "metadata": {},
   "outputs": [
    {
     "data": {
      "text/html": [
       "<table border=\"1\" class=\"dataframe\">\n",
       "  <thead>\n",
       "    <tr style=\"text-align: right;\">\n",
       "      <th></th>\n",
       "      <th></th>\n",
       "      <th>Avarage Rating</th>\n",
       "    </tr>\n",
       "    <tr>\n",
       "      <th>Title</th>\n",
       "      <th></th>\n",
       "      <th></th>\n",
       "    </tr>\n",
       "  </thead>\n",
       "  <tbody>\n",
       "    <tr>\n",
       "      <th>Dance, Fools, Dance</th>\n",
       "      <td><img src='http://image.tmdb.org/t/p/w185//znLNTt8o2Bkfv5eCiCTEZdqNnye.jpg' style='height:100px;'></td>\n",
       "      <td>0.00</td>\n",
       "    </tr>\n",
       "    <tr>\n",
       "      <th>.hack Liminality: In the Case of Mai Minase</th>\n",
       "      <td><img src='http://image.tmdb.org/t/p/w185//mij7uE2vjbumQOeiLhY3M8HT5V0.jpg' style='height:100px;'></td>\n",
       "      <td>0.00</td>\n",
       "    </tr>\n",
       "    <tr>\n",
       "      <th>Lucrezia Borgia</th>\n",
       "      <td><img src='http://image.tmdb.org/t/p/w185//z3k5rkCJxNWAFua7MFgB8bi9AkX.jpg' style='height:100px;'></td>\n",
       "      <td>0.00</td>\n",
       "    </tr>\n",
       "    <tr>\n",
       "      <th>Joe and Max</th>\n",
       "      <td><img src='http://image.tmdb.org/t/p/w185//1VerTaAVt8zdU0IqTLWJLO0ZwIo.jpg' style='height:100px;'></td>\n",
       "      <td>0.00</td>\n",
       "    </tr>\n",
       "    <tr>\n",
       "      <th>The Substitute</th>\n",
       "      <td><img src='http://image.tmdb.org/t/p/w185//gOIGAnwL02vzSPhyvALBtDkHsf4.jpg' style='height:100px;'></td>\n",
       "      <td>0.00</td>\n",
       "    </tr>\n",
       "  </tbody>\n",
       "</table>"
      ],
      "text/plain": [
       "<IPython.core.display.HTML object>"
      ]
     },
     "execution_count": 28,
     "metadata": {},
     "output_type": "execute_result"
    }
   ],
   "source": [
    "best_worst(5,\"Avarage Rating\",ascending=True,min_votes=0)"
   ]
  },
  {
   "cell_type": "code",
   "execution_count": 29,
   "metadata": {},
   "outputs": [
    {
     "data": {
      "text/html": [
       "<table border=\"1\" class=\"dataframe\">\n",
       "  <thead>\n",
       "    <tr style=\"text-align: right;\">\n",
       "      <th></th>\n",
       "      <th></th>\n",
       "      <th>Avarage Rating</th>\n",
       "    </tr>\n",
       "    <tr>\n",
       "      <th>Title</th>\n",
       "      <th></th>\n",
       "      <th></th>\n",
       "    </tr>\n",
       "  </thead>\n",
       "  <tbody>\n",
       "    <tr>\n",
       "      <th>Saving Christmas</th>\n",
       "      <td><img src='http://image.tmdb.org/t/p/w185//6MLSD1OYGDWkCk05m7vA1xCrfKr.jpg' style='height:100px;'></td>\n",
       "      <td>1.70</td>\n",
       "    </tr>\n",
       "    <tr>\n",
       "      <th>Superbabies: Baby Geniuses 2</th>\n",
       "      <td><img src='http://image.tmdb.org/t/p/w185//7viULokoVzqrgVj0EljfXDzEKMk.jpg' style='height:100px;'></td>\n",
       "      <td>1.90</td>\n",
       "    </tr>\n",
       "    <tr>\n",
       "      <th>Manos: The Hands of Fate</th>\n",
       "      <td><img src='http://image.tmdb.org/t/p/w185//dcDR1ZhZvA7HQvxQ17hzFjeCNHx.jpg' style='height:100px;'></td>\n",
       "      <td>2.00</td>\n",
       "    </tr>\n",
       "    <tr>\n",
       "      <th>Birdemic: Shock and Terror</th>\n",
       "      <td><img src='http://image.tmdb.org/t/p/w185//lNC2Alq5CIIuPp1Bv0Y8hPHXZlP.jpg' style='height:100px;'></td>\n",
       "      <td>2.10</td>\n",
       "    </tr>\n",
       "    <tr>\n",
       "      <th>Transmorphers</th>\n",
       "      <td><img src='http://image.tmdb.org/t/p/w185//lgVwSbFyUVCNPAEzsog9C2U594x.jpg' style='height:100px;'></td>\n",
       "      <td>2.20</td>\n",
       "    </tr>\n",
       "  </tbody>\n",
       "</table>"
      ],
      "text/plain": [
       "<IPython.core.display.HTML object>"
      ]
     },
     "execution_count": 29,
     "metadata": {},
     "output_type": "execute_result"
    }
   ],
   "source": [
    "best_worst(5,\"Avarage Rating\",ascending=True,min_votes=20,min_bud=0)"
   ]
  },
  {
   "cell_type": "markdown",
   "metadata": {},
   "source": [
    "#### Movie Top 5 - Most Populer"
   ]
  },
  {
   "cell_type": "code",
   "execution_count": 30,
   "metadata": {},
   "outputs": [
    {
     "data": {
      "text/html": [
       "<table border=\"1\" class=\"dataframe\">\n",
       "  <thead>\n",
       "    <tr style=\"text-align: right;\">\n",
       "      <th></th>\n",
       "      <th></th>\n",
       "      <th>Popularity</th>\n",
       "    </tr>\n",
       "    <tr>\n",
       "      <th>Title</th>\n",
       "      <th></th>\n",
       "      <th></th>\n",
       "    </tr>\n",
       "  </thead>\n",
       "  <tbody>\n",
       "    <tr>\n",
       "      <th>Minions</th>\n",
       "      <td><img src='http://image.tmdb.org/t/p/w185//tMaGZ2HR8HAFwkx4YRib0CDVfNT.jpg' style='height:100px;'></td>\n",
       "      <td>547.49</td>\n",
       "    </tr>\n",
       "    <tr>\n",
       "      <th>Wonder Woman</th>\n",
       "      <td><img src='http://image.tmdb.org/t/p/w185//gfJGlDaHuWimErCr5Ql0I8x9QSy.jpg' style='height:100px;'></td>\n",
       "      <td>294.34</td>\n",
       "    </tr>\n",
       "    <tr>\n",
       "      <th>Beauty and the Beast</th>\n",
       "      <td><img src='http://image.tmdb.org/t/p/w185//tWqifoYuwLETmmasnGHO7xBjEtt.jpg' style='height:100px;'></td>\n",
       "      <td>287.25</td>\n",
       "    </tr>\n",
       "    <tr>\n",
       "      <th>Baby Driver</th>\n",
       "      <td><img src='http://image.tmdb.org/t/p/w185//rmnQ9jKW72bHu8uKlMjPIb2VLMI.jpg' style='height:100px;'></td>\n",
       "      <td>228.03</td>\n",
       "    </tr>\n",
       "    <tr>\n",
       "      <th>Big Hero 6</th>\n",
       "      <td><img src='http://image.tmdb.org/t/p/w185//xozrGME58olN1xBhtxmjpOoY0jH.jpg' style='height:100px;'></td>\n",
       "      <td>213.85</td>\n",
       "    </tr>\n",
       "  </tbody>\n",
       "</table>"
      ],
      "text/plain": [
       "<IPython.core.display.HTML object>"
      ]
     },
     "execution_count": 30,
     "metadata": {},
     "output_type": "execute_result"
    }
   ],
   "source": [
    "best_worst(5,\"Popularity\")"
   ]
  },
  {
   "cell_type": "markdown",
   "metadata": {},
   "source": [
    "## Find your next Movie"
   ]
  },
  {
   "cell_type": "markdown",
   "metadata": {},
   "source": [
    "#### Search 1: Science Fiction Action movie with bruce willis (High Rating) "
   ]
  },
  {
   "cell_type": "code",
   "execution_count": 31,
   "metadata": {},
   "outputs": [
    {
     "data": {
      "text/plain": [
       "'Animation|Comedy|Family'"
      ]
     },
     "execution_count": 31,
     "metadata": {},
     "output_type": "execute_result"
    }
   ],
   "source": [
    "df.genres[0]"
   ]
  },
  {
   "cell_type": "code",
   "execution_count": 32,
   "metadata": {},
   "outputs": [
    {
     "data": {
      "text/plain": [
       "0        False\n",
       "1        False\n",
       "2        False\n",
       "3        False\n",
       "4        False\n",
       "         ...  \n",
       "44686    False\n",
       "44687    False\n",
       "44688    False\n",
       "44689    False\n",
       "44690    False\n",
       "Name: genres, Length: 44691, dtype: bool"
      ]
     },
     "execution_count": 32,
     "metadata": {},
     "output_type": "execute_result"
    }
   ],
   "source": [
    "mask_genres = df.genres.str.contains(\"Action\") & df.genres.str.contains(\"Science Fiction\")\n",
    "mask_genres"
   ]
  },
  {
   "cell_type": "code",
   "execution_count": 33,
   "metadata": {},
   "outputs": [
    {
     "data": {
      "text/plain": [
       "'Tom Hanks|Tim Allen|Don Rickles|Jim Varney|Wallace Shawn|John Ratzenberger|Annie Potts|John Morris|Erik von Detten|Laurie Metcalf|R. Lee Ermey|Sarah Freeman|Penn Jillette'"
      ]
     },
     "execution_count": 33,
     "metadata": {},
     "output_type": "execute_result"
    }
   ],
   "source": [
    "df.cast[0]"
   ]
  },
  {
   "cell_type": "code",
   "execution_count": 34,
   "metadata": {},
   "outputs": [
    {
     "data": {
      "text/plain": [
       "0        False\n",
       "1        False\n",
       "2        False\n",
       "3        False\n",
       "4        False\n",
       "         ...  \n",
       "44686    False\n",
       "44687    False\n",
       "44688    False\n",
       "44689    False\n",
       "44690      NaN\n",
       "Name: cast, Length: 44691, dtype: object"
      ]
     },
     "execution_count": 34,
     "metadata": {},
     "output_type": "execute_result"
    }
   ],
   "source": [
    "mask_actor = df.cast.str.contains(\"Bruce Willis\")\n",
    "mask_actor"
   ]
  },
  {
   "cell_type": "markdown",
   "metadata": {},
   "source": [
    "## Find your next Movie"
   ]
  },
  {
   "cell_type": "markdown",
   "metadata": {},
   "source": [
    "#### Search 1: Science Fiction Action Movie with Bruce Willis (high Rating)"
   ]
  },
  {
   "cell_type": "code",
   "execution_count": 35,
   "metadata": {},
   "outputs": [
    {
     "data": {
      "text/plain": [
       "'Animation|Comedy|Family'"
      ]
     },
     "execution_count": 35,
     "metadata": {},
     "output_type": "execute_result"
    }
   ],
   "source": [
    "df.genres[0]"
   ]
  },
  {
   "cell_type": "code",
   "execution_count": 36,
   "metadata": {},
   "outputs": [
    {
     "data": {
      "text/plain": [
       "0        False\n",
       "1        False\n",
       "2        False\n",
       "3        False\n",
       "4        False\n",
       "         ...  \n",
       "44686    False\n",
       "44687    False\n",
       "44688    False\n",
       "44689    False\n",
       "44690    False\n",
       "Name: genres, Length: 44691, dtype: bool"
      ]
     },
     "execution_count": 36,
     "metadata": {},
     "output_type": "execute_result"
    }
   ],
   "source": [
    "mask_genres = df.genres.str.contains(\"Action\") & df.genres.str.contains(\"Science Fiction\")\n",
    "mask_genres"
   ]
  },
  {
   "cell_type": "code",
   "execution_count": 37,
   "metadata": {},
   "outputs": [
    {
     "data": {
      "text/plain": [
       "'Tom Hanks|Tim Allen|Don Rickles|Jim Varney|Wallace Shawn|John Ratzenberger|Annie Potts|John Morris|Erik von Detten|Laurie Metcalf|R. Lee Ermey|Sarah Freeman|Penn Jillette'"
      ]
     },
     "execution_count": 37,
     "metadata": {},
     "output_type": "execute_result"
    }
   ],
   "source": [
    "df.cast[0]"
   ]
  },
  {
   "cell_type": "code",
   "execution_count": 38,
   "metadata": {},
   "outputs": [
    {
     "data": {
      "text/plain": [
       "0        False\n",
       "1        False\n",
       "2        False\n",
       "3        False\n",
       "4        False\n",
       "         ...  \n",
       "44686    False\n",
       "44687    False\n",
       "44688    False\n",
       "44689    False\n",
       "44690      NaN\n",
       "Name: cast, Length: 44691, dtype: object"
      ]
     },
     "execution_count": 38,
     "metadata": {},
     "output_type": "execute_result"
    }
   ],
   "source": [
    "mask_actor = df.cast.str.contains(\"Bruce Willis\")\n",
    "mask_actor"
   ]
  },
  {
   "cell_type": "code",
   "execution_count": 39,
   "metadata": {},
   "outputs": [
    {
     "data": {
      "text/html": [
       "<div>\n",
       "<style scoped>\n",
       "    .dataframe tbody tr th:only-of-type {\n",
       "        vertical-align: middle;\n",
       "    }\n",
       "\n",
       "    .dataframe tbody tr th {\n",
       "        vertical-align: top;\n",
       "    }\n",
       "\n",
       "    .dataframe thead th {\n",
       "        text-align: right;\n",
       "    }\n",
       "</style>\n",
       "<table border=\"1\" class=\"dataframe\">\n",
       "  <thead>\n",
       "    <tr style=\"text-align: right;\">\n",
       "      <th></th>\n",
       "      <th>title</th>\n",
       "      <th>vote_average</th>\n",
       "    </tr>\n",
       "  </thead>\n",
       "  <tbody>\n",
       "    <tr>\n",
       "      <th>1448</th>\n",
       "      <td>The Fifth Element</td>\n",
       "      <td>7.30</td>\n",
       "    </tr>\n",
       "    <tr>\n",
       "      <th>19218</th>\n",
       "      <td>Looper</td>\n",
       "      <td>6.60</td>\n",
       "    </tr>\n",
       "    <tr>\n",
       "      <th>1786</th>\n",
       "      <td>Armageddon</td>\n",
       "      <td>6.50</td>\n",
       "    </tr>\n",
       "    <tr>\n",
       "      <th>14135</th>\n",
       "      <td>Surrogates</td>\n",
       "      <td>5.90</td>\n",
       "    </tr>\n",
       "    <tr>\n",
       "      <th>20333</th>\n",
       "      <td>G.I. Joe: Retaliation</td>\n",
       "      <td>5.40</td>\n",
       "    </tr>\n",
       "    <tr>\n",
       "      <th>27619</th>\n",
       "      <td>Vice</td>\n",
       "      <td>4.10</td>\n",
       "    </tr>\n",
       "  </tbody>\n",
       "</table>\n",
       "</div>"
      ],
      "text/plain": [
       "                       title  vote_average\n",
       "1448       The Fifth Element          7.30\n",
       "19218                 Looper          6.60\n",
       "1786              Armageddon          6.50\n",
       "14135             Surrogates          5.90\n",
       "20333  G.I. Joe: Retaliation          5.40\n",
       "27619                   Vice          4.10"
      ]
     },
     "execution_count": 39,
     "metadata": {},
     "output_type": "execute_result"
    }
   ],
   "source": [
    "df.loc[mask_actor & mask_genres, [\"title\", \"vote_average\"]].sort_values(by = \"vote_average\", \n",
    "                                                                        ascending = False)"
   ]
  },
  {
   "cell_type": "code",
   "execution_count": 40,
   "metadata": {},
   "outputs": [],
   "source": [
    "bruce = df.loc[mask_actor & mask_genres, [\"title\", \"poster_path\", \"vote_average\"]].sort_values(by = \"vote_average\", ascending = False).set_index(\"title\")"
   ]
  },
  {
   "cell_type": "code",
   "execution_count": 41,
   "metadata": {},
   "outputs": [
    {
     "data": {
      "text/html": [
       "<table border=\"1\" class=\"dataframe\">\n",
       "  <thead>\n",
       "    <tr style=\"text-align: right;\">\n",
       "      <th></th>\n",
       "      <th>poster_path</th>\n",
       "      <th>vote_average</th>\n",
       "    </tr>\n",
       "    <tr>\n",
       "      <th>title</th>\n",
       "      <th></th>\n",
       "      <th></th>\n",
       "    </tr>\n",
       "  </thead>\n",
       "  <tbody>\n",
       "    <tr>\n",
       "      <th>The Fifth Element</th>\n",
       "      <td><img src='http://image.tmdb.org/t/p/w185//fPtlCO1yQtnoLHOwKtWz7db6RGU.jpg' style='height:100px;'></td>\n",
       "      <td>7.30</td>\n",
       "    </tr>\n",
       "    <tr>\n",
       "      <th>Looper</th>\n",
       "      <td><img src='http://image.tmdb.org/t/p/w185//sNjL6SqErDBE8OUZlrDLkexfsCj.jpg' style='height:100px;'></td>\n",
       "      <td>6.60</td>\n",
       "    </tr>\n",
       "    <tr>\n",
       "      <th>Armageddon</th>\n",
       "      <td><img src='http://image.tmdb.org/t/p/w185//fMtOCd0EAdAzKtGLQiHjSUvbdNc.jpg' style='height:100px;'></td>\n",
       "      <td>6.50</td>\n",
       "    </tr>\n",
       "    <tr>\n",
       "      <th>Surrogates</th>\n",
       "      <td><img src='http://image.tmdb.org/t/p/w185//v3Z0Hbl0oe57njrrIPh0fJPFoo.jpg' style='height:100px;'></td>\n",
       "      <td>5.90</td>\n",
       "    </tr>\n",
       "    <tr>\n",
       "      <th>G.I. Joe: Retaliation</th>\n",
       "      <td><img src='http://image.tmdb.org/t/p/w185//3rWIZMzTKcCtV0eHJ70Z4Ru659f.jpg' style='height:100px;'></td>\n",
       "      <td>5.40</td>\n",
       "    </tr>\n",
       "    <tr>\n",
       "      <th>Vice</th>\n",
       "      <td><img src='http://image.tmdb.org/t/p/w185//nPqNoQ55RIrmmo9mpqg1jE3ENza.jpg' style='height:100px;'></td>\n",
       "      <td>4.10</td>\n",
       "    </tr>\n",
       "  </tbody>\n",
       "</table>"
      ],
      "text/plain": [
       "<IPython.core.display.HTML object>"
      ]
     },
     "execution_count": 41,
     "metadata": {},
     "output_type": "execute_result"
    }
   ],
   "source": [
    "HTML(bruce.to_html(escape=False))"
   ]
  },
  {
   "cell_type": "markdown",
   "metadata": {},
   "source": [
    "#### Search 2: Movies with Uma Thurman and directed by Quentin Tarantino (low runtime)"
   ]
  },
  {
   "cell_type": "code",
   "execution_count": 42,
   "metadata": {},
   "outputs": [
    {
     "data": {
      "text/plain": [
       "0           John Lasseter\n",
       "1            Joe Johnston\n",
       "2           Howard Deutch\n",
       "3         Forest Whitaker\n",
       "4           Charles Shyer\n",
       "               ...       \n",
       "44686    Hamid Nematollah\n",
       "44687            Lav Diaz\n",
       "44688      Mark L. Lester\n",
       "44689    Yakov Protazanov\n",
       "44690       Daisy Asquith\n",
       "Name: director, Length: 44691, dtype: object"
      ]
     },
     "execution_count": 42,
     "metadata": {},
     "output_type": "execute_result"
    }
   ],
   "source": [
    "df.director"
   ]
  },
  {
   "cell_type": "code",
   "execution_count": 43,
   "metadata": {},
   "outputs": [],
   "source": [
    "mask_director = df.director == \"Quentin Tarantino\""
   ]
  },
  {
   "cell_type": "code",
   "execution_count": 44,
   "metadata": {},
   "outputs": [],
   "source": [
    "mask_actor = df.cast.str.contains(\"Uma Thurman\")"
   ]
  },
  {
   "cell_type": "code",
   "execution_count": 46,
   "metadata": {},
   "outputs": [],
   "source": [
    "quentin = df.loc[mask_director & mask_actor,[\"title\", \"poster_path\", \"runtime\"]].sort_values(by = \"runtime\").set_index(\"title\")"
   ]
  },
  {
   "cell_type": "code",
   "execution_count": 47,
   "metadata": {},
   "outputs": [
    {
     "data": {
      "text/html": [
       "<table border=\"1\" class=\"dataframe\">\n",
       "  <thead>\n",
       "    <tr style=\"text-align: right;\">\n",
       "      <th></th>\n",
       "      <th>poster_path</th>\n",
       "      <th>runtime</th>\n",
       "    </tr>\n",
       "    <tr>\n",
       "      <th>title</th>\n",
       "      <th></th>\n",
       "      <th></th>\n",
       "    </tr>\n",
       "  </thead>\n",
       "  <tbody>\n",
       "    <tr>\n",
       "      <th>Kill Bill: Vol. 1</th>\n",
       "      <td><img src='http://image.tmdb.org/t/p/w185//v7TaX8kXMXs5yFFGR41guUDNcnB.jpg' style='height:100px;'></td>\n",
       "      <td>111.00</td>\n",
       "    </tr>\n",
       "    <tr>\n",
       "      <th>Kill Bill: Vol. 2</th>\n",
       "      <td><img src='http://image.tmdb.org/t/p/w185//2yhg0mZQMhDyvUQ4rG1IZ4oIA8L.jpg' style='height:100px;'></td>\n",
       "      <td>136.00</td>\n",
       "    </tr>\n",
       "    <tr>\n",
       "      <th>Pulp Fiction</th>\n",
       "      <td><img src='http://image.tmdb.org/t/p/w185//d5iIlFn5s0ImszYzBPb8JPIfbXD.jpg' style='height:100px;'></td>\n",
       "      <td>154.00</td>\n",
       "    </tr>\n",
       "  </tbody>\n",
       "</table>"
      ],
      "text/plain": [
       "<IPython.core.display.HTML object>"
      ]
     },
     "execution_count": 47,
     "metadata": {},
     "output_type": "execute_result"
    }
   ],
   "source": [
    "HTML(quentin.to_html(escape=False))"
   ]
  },
  {
   "cell_type": "markdown",
   "metadata": {},
   "source": [
    "#### Search 3: Most Successful Pixar Studio Movies between 2010 and 2015 (high Revenue)"
   ]
  },
  {
   "cell_type": "code",
   "execution_count": 48,
   "metadata": {},
   "outputs": [
    {
     "data": {
      "text/plain": [
       "'TriStar Pictures|Teitler Film|Interscope Communications'"
      ]
     },
     "execution_count": 48,
     "metadata": {},
     "output_type": "execute_result"
    }
   ],
   "source": [
    "df.production_companies[1]"
   ]
  },
  {
   "cell_type": "code",
   "execution_count": 49,
   "metadata": {},
   "outputs": [],
   "source": [
    "mask_studio = df.production_companies.str.contains(\"Pixar\").fillna(False)"
   ]
  },
  {
   "cell_type": "code",
   "execution_count": 50,
   "metadata": {},
   "outputs": [
    {
     "data": {
      "text/plain": [
       "0       1995-10-30\n",
       "1       1995-12-15\n",
       "2       1995-12-22\n",
       "3       1995-12-22\n",
       "4       1995-02-10\n",
       "           ...    \n",
       "44686          NaT\n",
       "44687   2011-11-17\n",
       "44688   2003-08-01\n",
       "44689   1917-10-21\n",
       "44690   2017-06-09\n",
       "Name: release_date, Length: 44691, dtype: datetime64[ns]"
      ]
     },
     "execution_count": 50,
     "metadata": {},
     "output_type": "execute_result"
    }
   ],
   "source": [
    "df.release_date"
   ]
  },
  {
   "cell_type": "code",
   "execution_count": 51,
   "metadata": {},
   "outputs": [],
   "source": [
    "mask_time = df.release_date.between(\"2010-01-01\", \"2015-12-31\")"
   ]
  },
  {
   "cell_type": "code",
   "execution_count": 52,
   "metadata": {},
   "outputs": [],
   "source": [
    "pixar = df.loc[mask_studio & mask_time,[\"title\", \"poster_path\", \"revenue_musd\", \"release_date\"]].sort_values(by = \"revenue_musd\", ascending = False).set_index(\"title\")"
   ]
  },
  {
   "cell_type": "code",
   "execution_count": 53,
   "metadata": {},
   "outputs": [
    {
     "data": {
      "text/html": [
       "<table border=\"1\" class=\"dataframe\">\n",
       "  <thead>\n",
       "    <tr style=\"text-align: right;\">\n",
       "      <th></th>\n",
       "      <th>poster_path</th>\n",
       "      <th>revenue_musd</th>\n",
       "      <th>release_date</th>\n",
       "    </tr>\n",
       "    <tr>\n",
       "      <th>title</th>\n",
       "      <th></th>\n",
       "      <th></th>\n",
       "      <th></th>\n",
       "    </tr>\n",
       "  </thead>\n",
       "  <tbody>\n",
       "    <tr>\n",
       "      <th>Toy Story 3</th>\n",
       "      <td><img src='http://image.tmdb.org/t/p/w185//amY0NH1ksd9xJ9boXAMmods6U0D.jpg' style='height:100px;'></td>\n",
       "      <td>1066.97</td>\n",
       "      <td>2010-06-16</td>\n",
       "    </tr>\n",
       "    <tr>\n",
       "      <th>Inside Out</th>\n",
       "      <td><img src='http://image.tmdb.org/t/p/w185//lRHE0vzf3oYJrhbsHXjIkF4Tl5A.jpg' style='height:100px;'></td>\n",
       "      <td>857.61</td>\n",
       "      <td>2015-06-09</td>\n",
       "    </tr>\n",
       "    <tr>\n",
       "      <th>Monsters University</th>\n",
       "      <td><img src='http://image.tmdb.org/t/p/w185//tyHHjZEzJutWggujN1KP0a1jfLX.jpg' style='height:100px;'></td>\n",
       "      <td>743.56</td>\n",
       "      <td>2013-06-20</td>\n",
       "    </tr>\n",
       "    <tr>\n",
       "      <th>Cars 2</th>\n",
       "      <td><img src='http://image.tmdb.org/t/p/w185//okIz1HyxeVOMzYwwHUjH2pHi74I.jpg' style='height:100px;'></td>\n",
       "      <td>559.85</td>\n",
       "      <td>2011-06-11</td>\n",
       "    </tr>\n",
       "    <tr>\n",
       "      <th>Brave</th>\n",
       "      <td><img src='http://image.tmdb.org/t/p/w185//8l0pzWBrStFtbZiqeu0cGhxGKkT.jpg' style='height:100px;'></td>\n",
       "      <td>538.98</td>\n",
       "      <td>2012-06-21</td>\n",
       "    </tr>\n",
       "    <tr>\n",
       "      <th>The Good Dinosaur</th>\n",
       "      <td><img src='http://image.tmdb.org/t/p/w185//8RSkxOO80btfKjyiC5ZiTaCHIT8.jpg' style='height:100px;'></td>\n",
       "      <td>331.93</td>\n",
       "      <td>2015-11-14</td>\n",
       "    </tr>\n",
       "    <tr>\n",
       "      <th>Day & Night</th>\n",
       "      <td><img src='http://image.tmdb.org/t/p/w185//eQ1QUZfblOrusXVfbzzCuUaM7ix.jpg' style='height:100px;'></td>\n",
       "      <td>NaN</td>\n",
       "      <td>2010-06-17</td>\n",
       "    </tr>\n",
       "    <tr>\n",
       "      <th>The Blue Umbrella</th>\n",
       "      <td><img src='http://image.tmdb.org/t/p/w185//iSWV7ra8HJ3gYnZFMMrPe8CBbrv.jpg' style='height:100px;'></td>\n",
       "      <td>NaN</td>\n",
       "      <td>2013-02-12</td>\n",
       "    </tr>\n",
       "    <tr>\n",
       "      <th>Toy Story of Terror!</th>\n",
       "      <td><img src='http://image.tmdb.org/t/p/w185//aNDrMDZYmcoMlJa6K3VicYeAgt1.jpg' style='height:100px;'></td>\n",
       "      <td>NaN</td>\n",
       "      <td>2013-10-15</td>\n",
       "    </tr>\n",
       "    <tr>\n",
       "      <th>La luna</th>\n",
       "      <td><img src='http://image.tmdb.org/t/p/w185//iS6DB1hIRJHQPs9wWXvIzdnp7oD.jpg' style='height:100px;'></td>\n",
       "      <td>NaN</td>\n",
       "      <td>2011-01-01</td>\n",
       "    </tr>\n",
       "    <tr>\n",
       "      <th>Hawaiian Vacation</th>\n",
       "      <td><img src='http://image.tmdb.org/t/p/w185//tByW10AkjWG0DtZwN2E2trT88DD.jpg' style='height:100px;'></td>\n",
       "      <td>NaN</td>\n",
       "      <td>2011-06-16</td>\n",
       "    </tr>\n",
       "    <tr>\n",
       "      <th>Small Fry</th>\n",
       "      <td><img src='http://image.tmdb.org/t/p/w185//z096FtMoUZxf9kqzSj39YE6psuD.jpg' style='height:100px;'></td>\n",
       "      <td>NaN</td>\n",
       "      <td>2011-11-23</td>\n",
       "    </tr>\n",
       "    <tr>\n",
       "      <th>Partysaurus Rex</th>\n",
       "      <td><img src='http://image.tmdb.org/t/p/w185//ylj9TnXrTgiETysgBoSb8UQwEUc.jpg' style='height:100px;'></td>\n",
       "      <td>NaN</td>\n",
       "      <td>2012-09-14</td>\n",
       "    </tr>\n",
       "    <tr>\n",
       "      <th>The Legend of Mor'du</th>\n",
       "      <td><img src='http://image.tmdb.org/t/p/w185//8FKR6880g0JRiblbTQEijGlq3Qj.jpg' style='height:100px;'></td>\n",
       "      <td>NaN</td>\n",
       "      <td>2012-01-01</td>\n",
       "    </tr>\n",
       "    <tr>\n",
       "      <th>Toy Story That Time Forgot</th>\n",
       "      <td><img src='http://image.tmdb.org/t/p/w185//jqQPN3X3aV5VmpTiEEASt36nlfi.jpg' style='height:100px;'></td>\n",
       "      <td>NaN</td>\n",
       "      <td>2014-12-02</td>\n",
       "    </tr>\n",
       "    <tr>\n",
       "      <th>Lava</th>\n",
       "      <td><img src='http://image.tmdb.org/t/p/w185//blZSkXNN4CzRBxdxXnz3YpUjnJp.jpg' style='height:100px;'></td>\n",
       "      <td>NaN</td>\n",
       "      <td>2015-06-21</td>\n",
       "    </tr>\n",
       "    <tr>\n",
       "      <th>Sanjay's Super Team</th>\n",
       "      <td><img src='http://image.tmdb.org/t/p/w185//mShcGzOctlq6zs33UdrCdAwZMGq.jpg' style='height:100px;'></td>\n",
       "      <td>NaN</td>\n",
       "      <td>2015-11-25</td>\n",
       "    </tr>\n",
       "    <tr>\n",
       "      <th>Air Mater</th>\n",
       "      <td><img src='http://image.tmdb.org/t/p/w185//jDwglSvFNBfWJNiyxD41CUcUic1.jpg' style='height:100px;'></td>\n",
       "      <td>NaN</td>\n",
       "      <td>2011-08-04</td>\n",
       "    </tr>\n",
       "    <tr>\n",
       "      <th>Riley's First Date?</th>\n",
       "      <td><img src='http://image.tmdb.org/t/p/w185//pyry5DuBCUiX02OtXRpPsjJ1r0L.jpg' style='height:100px;'></td>\n",
       "      <td>NaN</td>\n",
       "      <td>2015-11-03</td>\n",
       "    </tr>\n",
       "  </tbody>\n",
       "</table>"
      ],
      "text/plain": [
       "<IPython.core.display.HTML object>"
      ]
     },
     "execution_count": 53,
     "metadata": {},
     "output_type": "execute_result"
    }
   ],
   "source": [
    "HTML(pixar.to_html(escape=False))"
   ]
  },
  {
   "cell_type": "markdown",
   "metadata": {},
   "source": [
    "#### Search 4: Action or Thriller Movie with original language English and minimum Rating of 7.5 (most recent)"
   ]
  },
  {
   "cell_type": "code",
   "execution_count": 54,
   "metadata": {},
   "outputs": [],
   "source": [
    "mask_genre = df.genres.str.contains(\"Action\") | df.genres.str.contains(\"Thriller\")"
   ]
  },
  {
   "cell_type": "code",
   "execution_count": 55,
   "metadata": {},
   "outputs": [],
   "source": [
    "mask_lan = df.original_language == \"en\""
   ]
  },
  {
   "cell_type": "code",
   "execution_count": 56,
   "metadata": {},
   "outputs": [],
   "source": [
    "mask_vote_av = df.vote_average >= 7.5 "
   ]
  },
  {
   "cell_type": "code",
   "execution_count": 57,
   "metadata": {},
   "outputs": [],
   "source": [
    "mask_vote_co = df.vote_count >= 10"
   ]
  },
  {
   "cell_type": "code",
   "execution_count": 58,
   "metadata": {},
   "outputs": [],
   "source": [
    "next_mov = df.loc[mask_genre & mask_lan & mask_vote_av & mask_vote_co,[\"title\", \"poster_path\", \"genres\", \"vote_average\", \"vote_count\", \"release_date\"]].sort_values(by = \"release_date\", ascending = False).set_index(\"title\").head(20)"
   ]
  },
  {
   "cell_type": "code",
   "execution_count": 59,
   "metadata": {},
   "outputs": [
    {
     "data": {
      "text/html": [
       "<table border=\"1\" class=\"dataframe\">\n",
       "  <thead>\n",
       "    <tr style=\"text-align: right;\">\n",
       "      <th></th>\n",
       "      <th>poster_path</th>\n",
       "      <th>genres</th>\n",
       "      <th>vote_average</th>\n",
       "      <th>vote_count</th>\n",
       "      <th>release_date</th>\n",
       "    </tr>\n",
       "    <tr>\n",
       "      <th>title</th>\n",
       "      <th></th>\n",
       "      <th></th>\n",
       "      <th></th>\n",
       "      <th></th>\n",
       "      <th></th>\n",
       "    </tr>\n",
       "  </thead>\n",
       "  <tbody>\n",
       "    <tr>\n",
       "      <th>Descendants 2</th>\n",
       "      <td><img src='http://image.tmdb.org/t/p/w185//8BNyZlBk4Hs92z6UrvFDjvx3yMb.jpg' style='height:100px;'></td>\n",
       "      <td>TV Movie|Family|Action|Comedy|Music|Adventure</td>\n",
       "      <td>7.50</td>\n",
       "      <td>171.00</td>\n",
       "      <td>2017-07-21</td>\n",
       "    </tr>\n",
       "    <tr>\n",
       "      <th>Dunkirk</th>\n",
       "      <td><img src='http://image.tmdb.org/t/p/w185//ebSnODDg9lbsMIaWg2uAbjn7TO5.jpg' style='height:100px;'></td>\n",
       "      <td>Action|Drama|History|Thriller|War</td>\n",
       "      <td>7.50</td>\n",
       "      <td>2712.00</td>\n",
       "      <td>2017-07-19</td>\n",
       "    </tr>\n",
       "    <tr>\n",
       "      <th>The Book of Henry</th>\n",
       "      <td><img src='http://image.tmdb.org/t/p/w185//suLFg4UjvM5BoDipg2Wu3gZ802T.jpg' style='height:100px;'></td>\n",
       "      <td>Thriller|Drama|Crime</td>\n",
       "      <td>7.60</td>\n",
       "      <td>84.00</td>\n",
       "      <td>2017-06-16</td>\n",
       "    </tr>\n",
       "    <tr>\n",
       "      <th>Guardians of the Galaxy Vol. 2</th>\n",
       "      <td><img src='http://image.tmdb.org/t/p/w185//y4MBh0EjBlMuOzv9axM4qJlmhzz.jpg' style='height:100px;'></td>\n",
       "      <td>Action|Adventure|Comedy|Science Fiction</td>\n",
       "      <td>7.60</td>\n",
       "      <td>4858.00</td>\n",
       "      <td>2017-04-19</td>\n",
       "    </tr>\n",
       "    <tr>\n",
       "      <th>Logan</th>\n",
       "      <td><img src='http://image.tmdb.org/t/p/w185//fnbjcRDYn6YviCcePDnGdyAkYsB.jpg' style='height:100px;'></td>\n",
       "      <td>Action|Drama|Science Fiction</td>\n",
       "      <td>7.60</td>\n",
       "      <td>6310.00</td>\n",
       "      <td>2017-02-28</td>\n",
       "    </tr>\n",
       "    <tr>\n",
       "      <th>The Thinning</th>\n",
       "      <td><img src='http://image.tmdb.org/t/p/w185//55yQMgLwJDyEom2Kose80JjTlDt.jpg' style='height:100px;'></td>\n",
       "      <td>Thriller</td>\n",
       "      <td>7.60</td>\n",
       "      <td>92.00</td>\n",
       "      <td>2016-10-12</td>\n",
       "    </tr>\n",
       "    <tr>\n",
       "      <th>11.22.63</th>\n",
       "      <td><img src='http://image.tmdb.org/t/p/w185//5EJGeeuPy19EGDy8HErpbHba0yq.jpg' style='height:100px;'></td>\n",
       "      <td>Drama|History|Thriller</td>\n",
       "      <td>8.00</td>\n",
       "      <td>213.00</td>\n",
       "      <td>2016-02-15</td>\n",
       "    </tr>\n",
       "    <tr>\n",
       "      <th>Star Wars: The Force Awakens</th>\n",
       "      <td><img src='http://image.tmdb.org/t/p/w185//9rd002JS49RwDW944fF1wjU8iTV.jpg' style='height:100px;'></td>\n",
       "      <td>Action|Adventure|Science Fiction|Fantasy</td>\n",
       "      <td>7.50</td>\n",
       "      <td>7993.00</td>\n",
       "      <td>2015-12-15</td>\n",
       "    </tr>\n",
       "    <tr>\n",
       "      <th>London Spy</th>\n",
       "      <td><img src='http://image.tmdb.org/t/p/w185//Ef9ZvB7p0BWJwEup7KE6x96NDw.jpg' style='height:100px;'></td>\n",
       "      <td>Romance|Crime|Drama|Mystery|Thriller</td>\n",
       "      <td>8.80</td>\n",
       "      <td>12.00</td>\n",
       "      <td>2015-11-09</td>\n",
       "    </tr>\n",
       "    <tr>\n",
       "      <th>Spotlight</th>\n",
       "      <td><img src='http://image.tmdb.org/t/p/w185//28Vnvn1WI1wJtP1kDqeRCZ1GdYm.jpg' style='height:100px;'></td>\n",
       "      <td>Drama|Thriller|History</td>\n",
       "      <td>7.80</td>\n",
       "      <td>2751.00</td>\n",
       "      <td>2015-11-06</td>\n",
       "    </tr>\n",
       "    <tr>\n",
       "      <th>Room</th>\n",
       "      <td><img src='http://image.tmdb.org/t/p/w185//pCURNjeomWbMSdiP64gj8NVVHTQ.jpg' style='height:100px;'></td>\n",
       "      <td>Drama|Thriller</td>\n",
       "      <td>8.10</td>\n",
       "      <td>2838.00</td>\n",
       "      <td>2015-10-16</td>\n",
       "    </tr>\n",
       "    <tr>\n",
       "      <th>The Fear of 13</th>\n",
       "      <td><img src='http://image.tmdb.org/t/p/w185//k5uLNLfmX5aUVm9uiYpAA1uj4BQ.jpg' style='height:100px;'></td>\n",
       "      <td>Thriller|Documentary</td>\n",
       "      <td>8.00</td>\n",
       "      <td>45.00</td>\n",
       "      <td>2015-10-15</td>\n",
       "    </tr>\n",
       "    <tr>\n",
       "      <th>3 ½ Minutes, 10 Bullets</th>\n",
       "      <td><img src='http://image.tmdb.org/t/p/w185//nUQDNzBp8IvqkvLYdCYsoQhaDaS.jpg' style='height:100px;'></td>\n",
       "      <td>Thriller|Documentary</td>\n",
       "      <td>7.80</td>\n",
       "      <td>30.00</td>\n",
       "      <td>2015-10-02</td>\n",
       "    </tr>\n",
       "    <tr>\n",
       "      <th>An Inspector Calls</th>\n",
       "      <td><img src='http://image.tmdb.org/t/p/w185//2e0zkY38Qykc69C4eK7uCMOIHfM.jpg' style='height:100px;'></td>\n",
       "      <td>Drama|Crime|Thriller</td>\n",
       "      <td>7.60</td>\n",
       "      <td>42.00</td>\n",
       "      <td>2015-09-13</td>\n",
       "    </tr>\n",
       "    <tr>\n",
       "      <th>Kung Fury</th>\n",
       "      <td><img src='http://image.tmdb.org/t/p/w185//nbWY6797LUxXRSYwamHp8V0X4dA.jpg' style='height:100px;'></td>\n",
       "      <td>Action|Comedy|Science Fiction|Fantasy</td>\n",
       "      <td>7.60</td>\n",
       "      <td>762.00</td>\n",
       "      <td>2015-05-22</td>\n",
       "    </tr>\n",
       "    <tr>\n",
       "      <th>Kingsman: The Secret Service</th>\n",
       "      <td><img src='http://image.tmdb.org/t/p/w185//r6q9wZK5a2K51KFj4LWVID6Ja1r.jpg' style='height:100px;'></td>\n",
       "      <td>Crime|Comedy|Action|Adventure</td>\n",
       "      <td>7.60</td>\n",
       "      <td>6069.00</td>\n",
       "      <td>2015-01-29</td>\n",
       "    </tr>\n",
       "    <tr>\n",
       "      <th>Black Mirror: White Christmas</th>\n",
       "      <td><img src='http://image.tmdb.org/t/p/w185//he609rnU3tiwBjRklKNa4n2jQSd.jpg' style='height:100px;'></td>\n",
       "      <td>Drama|Horror|Mystery|Science Fiction|Thriller|TV Movie</td>\n",
       "      <td>8.30</td>\n",
       "      <td>211.00</td>\n",
       "      <td>2014-12-16</td>\n",
       "    </tr>\n",
       "    <tr>\n",
       "      <th>The Imitation Game</th>\n",
       "      <td><img src='http://image.tmdb.org/t/p/w185//ntZGfHt4d73A9fDD4KUN4nbDQlq.jpg' style='height:100px;'></td>\n",
       "      <td>History|Drama|Thriller|War</td>\n",
       "      <td>8.00</td>\n",
       "      <td>5895.00</td>\n",
       "      <td>2014-11-14</td>\n",
       "    </tr>\n",
       "    <tr>\n",
       "      <th>Big Hero 6</th>\n",
       "      <td><img src='http://image.tmdb.org/t/p/w185//xozrGME58olN1xBhtxmjpOoY0jH.jpg' style='height:100px;'></td>\n",
       "      <td>Adventure|Family|Animation|Action|Comedy</td>\n",
       "      <td>7.80</td>\n",
       "      <td>6289.00</td>\n",
       "      <td>2014-10-24</td>\n",
       "    </tr>\n",
       "    <tr>\n",
       "      <th>Nightcrawler</th>\n",
       "      <td><img src='http://image.tmdb.org/t/p/w185//gYPIRu0jX2CGYdeO422cq3N78ju.jpg' style='height:100px;'></td>\n",
       "      <td>Crime|Drama|Thriller</td>\n",
       "      <td>7.60</td>\n",
       "      <td>3475.00</td>\n",
       "      <td>2014-10-23</td>\n",
       "    </tr>\n",
       "  </tbody>\n",
       "</table>"
      ],
      "text/plain": [
       "<IPython.core.display.HTML object>"
      ]
     },
     "execution_count": 59,
     "metadata": {},
     "output_type": "execute_result"
    }
   ],
   "source": [
    "HTML(next_mov.to_html(escape=False))"
   ]
  },
  {
   "cell_type": "markdown",
   "metadata": {},
   "source": [
    "## Are Franchises more successful?"
   ]
  },
  {
   "cell_type": "code",
   "execution_count": 73,
   "metadata": {},
   "outputs": [
    {
     "data": {
      "text/plain": [
       "0                  Toy Story Collection\n",
       "1                                   NaN\n",
       "2             Grumpy Old Men Collection\n",
       "3                                   NaN\n",
       "4        Father of the Bride Collection\n",
       "                      ...              \n",
       "44686                               NaN\n",
       "44687                               NaN\n",
       "44688                               NaN\n",
       "44689                               NaN\n",
       "44690                               NaN\n",
       "Name: belongs_to_collection, Length: 44691, dtype: object"
      ]
     },
     "execution_count": 73,
     "metadata": {},
     "output_type": "execute_result"
    }
   ],
   "source": [
    "df.belongs_to_collection"
   ]
  },
  {
   "cell_type": "code",
   "execution_count": 74,
   "metadata": {},
   "outputs": [],
   "source": [
    "df[\"Franchise\"] = df.belongs_to_collection.notna()"
   ]
  },
  {
   "cell_type": "code",
   "execution_count": 75,
   "metadata": {},
   "outputs": [
    {
     "data": {
      "text/plain": [
       "0         True\n",
       "1        False\n",
       "2         True\n",
       "3        False\n",
       "4         True\n",
       "         ...  \n",
       "44686    False\n",
       "44687    False\n",
       "44688    False\n",
       "44689    False\n",
       "44690    False\n",
       "Name: Franchise, Length: 44691, dtype: bool"
      ]
     },
     "execution_count": 75,
     "metadata": {},
     "output_type": "execute_result"
    }
   ],
   "source": [
    "df.Franchise"
   ]
  },
  {
   "cell_type": "code",
   "execution_count": 76,
   "metadata": {},
   "outputs": [
    {
     "data": {
      "text/plain": [
       "False    40228\n",
       "True      4463\n",
       "Name: Franchise, dtype: int64"
      ]
     },
     "execution_count": 76,
     "metadata": {},
     "output_type": "execute_result"
    }
   ],
   "source": [
    "df.Franchise.value_counts()"
   ]
  },
  {
   "cell_type": "markdown",
   "metadata": {},
   "source": [
    "#### Franchise vs. Stand-alone: Average Revenue"
   ]
  },
  {
   "cell_type": "code",
   "execution_count": 77,
   "metadata": {},
   "outputs": [
    {
     "data": {
      "text/plain": [
       "Franchise\n",
       "False    44.74\n",
       "True    165.71\n",
       "Name: revenue_musd, dtype: float64"
      ]
     },
     "execution_count": 77,
     "metadata": {},
     "output_type": "execute_result"
    }
   ],
   "source": [
    "df.groupby(\"Franchise\").revenue_musd.mean()"
   ]
  },
  {
   "cell_type": "markdown",
   "metadata": {},
   "source": [
    "#### __Franchise vs. Stand-alone: Return on Investment / Profitability__"
   ]
  },
  {
   "cell_type": "code",
   "execution_count": 78,
   "metadata": {},
   "outputs": [],
   "source": [
    "df[\"ROI\"] = df.revenue_musd.div(df.budget_musd)"
   ]
  },
  {
   "cell_type": "code",
   "execution_count": 79,
   "metadata": {},
   "outputs": [
    {
     "data": {
      "text/plain": [
       "Franchise\n",
       "False   1.62\n",
       "True    3.71\n",
       "Name: ROI, dtype: float64"
      ]
     },
     "execution_count": 79,
     "metadata": {},
     "output_type": "execute_result"
    }
   ],
   "source": [
    "df.groupby(\"Franchise\").ROI.median()"
   ]
  },
  {
   "cell_type": "markdown",
   "metadata": {},
   "source": [
    "#### Franchise vs. Stand-alone: Average Budget"
   ]
  },
  {
   "cell_type": "code",
   "execution_count": 80,
   "metadata": {},
   "outputs": [
    {
     "data": {
      "text/plain": [
       "Franchise\n",
       "False   18.05\n",
       "True    38.32\n",
       "Name: budget_musd, dtype: float64"
      ]
     },
     "execution_count": 80,
     "metadata": {},
     "output_type": "execute_result"
    }
   ],
   "source": [
    "df.groupby(\"Franchise\").budget_musd.mean()"
   ]
  },
  {
   "cell_type": "markdown",
   "metadata": {},
   "source": [
    "#### Franchise vs. Stand-alone: Average Popularity"
   ]
  },
  {
   "cell_type": "code",
   "execution_count": 81,
   "metadata": {},
   "outputs": [
    {
     "data": {
      "text/plain": [
       "Franchise\n",
       "False   2.59\n",
       "True    6.25\n",
       "Name: popularity, dtype: float64"
      ]
     },
     "execution_count": 81,
     "metadata": {},
     "output_type": "execute_result"
    }
   ],
   "source": [
    "df.groupby(\"Franchise\").popularity.mean()"
   ]
  },
  {
   "cell_type": "markdown",
   "metadata": {},
   "source": [
    "#### Franchise vs. Stand-alone: Average Rating"
   ]
  },
  {
   "cell_type": "code",
   "execution_count": 82,
   "metadata": {},
   "outputs": [
    {
     "data": {
      "text/plain": [
       "Franchise\n",
       "False   6.01\n",
       "True    5.96\n",
       "Name: vote_average, dtype: float64"
      ]
     },
     "execution_count": 82,
     "metadata": {},
     "output_type": "execute_result"
    }
   ],
   "source": [
    "df.groupby(\"Franchise\").vote_average.mean()"
   ]
  },
  {
   "cell_type": "code",
   "execution_count": 83,
   "metadata": {},
   "outputs": [
    {
     "data": {
      "text/html": [
       "<div>\n",
       "<style scoped>\n",
       "    .dataframe tbody tr th:only-of-type {\n",
       "        vertical-align: middle;\n",
       "    }\n",
       "\n",
       "    .dataframe tbody tr th {\n",
       "        vertical-align: top;\n",
       "    }\n",
       "\n",
       "    .dataframe thead th {\n",
       "        text-align: right;\n",
       "    }\n",
       "</style>\n",
       "<table border=\"1\" class=\"dataframe\">\n",
       "  <thead>\n",
       "    <tr style=\"text-align: right;\">\n",
       "      <th></th>\n",
       "      <th>budget_musd</th>\n",
       "      <th>revenue_musd</th>\n",
       "      <th>vote_average</th>\n",
       "      <th>popularity</th>\n",
       "      <th>ROI</th>\n",
       "      <th>vote_count</th>\n",
       "    </tr>\n",
       "    <tr>\n",
       "      <th>Franchise</th>\n",
       "      <th></th>\n",
       "      <th></th>\n",
       "      <th></th>\n",
       "      <th></th>\n",
       "      <th></th>\n",
       "      <th></th>\n",
       "    </tr>\n",
       "  </thead>\n",
       "  <tbody>\n",
       "    <tr>\n",
       "      <th>False</th>\n",
       "      <td>18.05</td>\n",
       "      <td>44.74</td>\n",
       "      <td>6.01</td>\n",
       "      <td>2.59</td>\n",
       "      <td>1.62</td>\n",
       "      <td>78.29</td>\n",
       "    </tr>\n",
       "    <tr>\n",
       "      <th>True</th>\n",
       "      <td>38.32</td>\n",
       "      <td>165.71</td>\n",
       "      <td>5.96</td>\n",
       "      <td>6.25</td>\n",
       "      <td>3.71</td>\n",
       "      <td>412.39</td>\n",
       "    </tr>\n",
       "  </tbody>\n",
       "</table>\n",
       "</div>"
      ],
      "text/plain": [
       "           budget_musd  revenue_musd  vote_average  popularity  ROI  \\\n",
       "Franchise                                                             \n",
       "False            18.05         44.74          6.01        2.59 1.62   \n",
       "True             38.32        165.71          5.96        6.25 3.71   \n",
       "\n",
       "           vote_count  \n",
       "Franchise              \n",
       "False           78.29  \n",
       "True           412.39  "
      ]
     },
     "execution_count": 83,
     "metadata": {},
     "output_type": "execute_result"
    }
   ],
   "source": [
    "df.groupby(\"Franchise\").agg({\"budget_musd\": \"mean\", \"revenue_musd\": \"mean\", \"vote_average\": \"mean\",\"popularity\": \"mean\", \"ROI\":\"median\", \"vote_count\":\"mean\"})"
   ]
  },
  {
   "cell_type": "code",
   "execution_count": null,
   "metadata": {},
   "outputs": [],
   "source": []
  }
 ],
 "metadata": {
  "kernelspec": {
   "display_name": "Python 3",
   "language": "python",
   "name": "python3"
  },
  "language_info": {
   "codemirror_mode": {
    "name": "ipython",
    "version": 3
   },
   "file_extension": ".py",
   "mimetype": "text/x-python",
   "name": "python",
   "nbconvert_exporter": "python",
   "pygments_lexer": "ipython3",
   "version": "3.7.3"
  }
 },
 "nbformat": 4,
 "nbformat_minor": 2
}
